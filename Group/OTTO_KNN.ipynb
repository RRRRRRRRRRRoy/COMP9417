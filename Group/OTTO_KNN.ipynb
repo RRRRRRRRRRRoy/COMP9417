{
    "cells": [
        {
            "cell_type": "code",
            "execution_count": 30,
            "source": [
                "import numpy as np\r\n",
                "import pandas as pd\r\n",
                "from sklearn.utils import shuffle\r\n",
                "from sklearn import metrics\r\n",
                "from sklearn.metrics import log_loss\r\n",
                "from sklearn.model_selection import GridSearchCV\r\n",
                "from sklearn.model_selection import KFold\r\n",
                "from sklearn.neighbors import KNeighborsClassifier\r\n",
                "from sklearn.cluster import KMeans\r\n",
                "from sklearn.ensemble import AdaBoostClassifier\r\n",
                "from sklearn.metrics import accuracy_score"
            ],
            "outputs": [],
            "metadata": {}
        },
        {
            "cell_type": "code",
            "execution_count": 31,
            "source": [
                "raw_train_data = pd.read_csv(\"D:\\\\train.csv\")\r\n",
                "raw_test_data = pd.read_csv(\"D:\\\\test.csv\")"
            ],
            "outputs": [],
            "metadata": {}
        },
        {
            "cell_type": "code",
            "execution_count": 32,
            "source": [
                "print(raw_train_data.shape)\r\n",
                "print(raw_test_data.shape)"
            ],
            "outputs": [
                {
                    "output_type": "stream",
                    "name": "stdout",
                    "text": [
                        "(61878, 95)\n",
                        "(144368, 94)\n"
                    ]
                }
            ],
            "metadata": {}
        },
        {
            "cell_type": "code",
            "execution_count": 33,
            "source": [
                "Train_data = raw_train_data.iloc[:, 1:95]\r\n",
                "labels = set(Train_data.iloc[:,93:94].target)\r\n",
                "Valid_x = np.array(raw_test_data.iloc[:, 1:94])\r\n",
                "Total_x = np.array(Train_data.iloc[:,0:93])\r\n",
                "Total_y = np.array(Train_data.iloc[:,93:94])"
            ],
            "outputs": [],
            "metadata": {}
        },
        {
            "cell_type": "code",
            "execution_count": 34,
            "source": [
                "print(f\"The current has the following label {labels}\")\r\n",
                "print(f\"The shape the Total_X {Total_x.shape}\")\r\n",
                "print(f\"The shape the Total_Y {Total_y.shape}\")\r\n",
                "print(f\"The shape the Valid_X {Valid_x.shape}\")\r\n",
                "print(f\"Check Nan in Total_X {set(np.isnan(Total_x).any(axis=1))}\")\r\n",
                "# print(f\"Check Nan in Train_Y {np.isnan(Train_Y).any(axis=1)}\")\r\n",
                "print(f\"Check Nan in Valid_X {set(np.isnan(Valid_x).any(axis=1))}\")"
            ],
            "outputs": [
                {
                    "output_type": "stream",
                    "name": "stdout",
                    "text": [
                        "The current has the following label {'Class_3', 'Class_2', 'Class_9', 'Class_6', 'Class_5', 'Class_4', 'Class_1', 'Class_8', 'Class_7'}\n",
                        "The shape the Total_X (61878, 93)\n",
                        "The shape the Total_Y (61878, 1)\n",
                        "The shape the Valid_X (144368, 93)\n",
                        "Check Nan in Total_X {False}\n",
                        "Check Nan in Valid_X {False}\n"
                    ]
                }
            ],
            "metadata": {}
        },
        {
            "cell_type": "code",
            "execution_count": 35,
            "source": [
                "np.random.seed(10)\r\n",
                "Total_X,Total_Y = shuffle(Total_x,Total_y)"
            ],
            "outputs": [],
            "metadata": {}
        },
        {
            "cell_type": "code",
            "execution_count": 36,
            "source": [
                "# In this part using the previous 50000 to do the training and the last data to do the test check the score\r\n",
                "Train_X = Total_X[:50000]\r\n",
                "Train_Y = Total_Y[:50000]\r\n",
                "Test_X = Total_X[50000:]\r\n",
                "Test_Y = Total_Y[50000:]\r\n",
                "print(Train_X.shape)\r\n",
                "print(Train_Y.shape)\r\n",
                "print(Test_X.shape)\r\n",
                "print(Test_Y.shape)"
            ],
            "outputs": [
                {
                    "output_type": "stream",
                    "name": "stdout",
                    "text": [
                        "(50000, 93)\n",
                        "(50000, 1)\n",
                        "(11878, 93)\n",
                        "(11878, 1)\n"
                    ]
                }
            ],
            "metadata": {}
        },
        {
            "cell_type": "code",
            "execution_count": 37,
            "source": [
                "checking_dict = dict()\r\n",
                "for n in range(1,25):\r\n",
                "    knn_classifier = KNeighborsClassifier(n_neighbors=n)\r\n",
                "    # fit the knn classifier\r\n",
                "    knn_classifier.fit(Train_X ,Train_Y.ravel())\r\n",
                "    predict_y_n = knn_classifier.predict(Test_X)\r\n",
                "    predict_y_proba_n = knn_classifier.predict_proba(Test_X)\r\n",
                "    acc_score = accuracy_score(Test_Y,predict_y_n)\r\n",
                "    log_loss_n = log_loss(Test_Y, predict_y_proba_n)\r\n",
                "    print(f\"Current n_neighbour is {n}, the log_loss is {log_loss_n}, the accuracy score is {acc_score}\")\r\n",
                "    checking_dict.update({n:acc_score})"
            ],
            "outputs": [
                {
                    "output_type": "stream",
                    "name": "stdout",
                    "text": [
                        "Current n_neighbour is 1, the log_loss is 7.926646274838072, the accuracy score is 0.7705000841892574\n",
                        "Current n_neighbour is 2, the log_loss is 5.046026884676152, the accuracy score is 0.7614918336420273\n",
                        "Current n_neighbour is 3, the log_loss is 3.6978808596525865, the accuracy score is 0.7730257619127799\n",
                        "Current n_neighbour is 4, the log_loss is 2.90144473305014, the accuracy score is 0.7758881966661054\n",
                        "Current n_neighbour is 5, the log_loss is 2.4159504282920548, the accuracy score is 0.7762249536959084\n",
                        "Current n_neighbour is 6, the log_loss is 2.0834346225263842, the accuracy score is 0.7778245495874726\n",
                        "Current n_neighbour is 7, the log_loss is 1.8202891488831725, the accuracy score is 0.7792557669641353\n",
                        "Current n_neighbour is 8, the log_loss is 1.6448991520863252, the accuracy score is 0.7774036033002188\n",
                        "Current n_neighbour is 9, the log_loss is 1.5141681349962075, the accuracy score is 0.7779087388449234\n",
                        "Current n_neighbour is 10, the log_loss is 1.421240574450576, the accuracy score is 0.7779929281023741\n",
                        "Current n_neighbour is 11, the log_loss is 1.3267166399814938, the accuracy score is 0.7778245495874726\n",
                        "Current n_neighbour is 12, the log_loss is 1.2618247751287404, the accuracy score is 0.7779087388449234\n",
                        "Current n_neighbour is 13, the log_loss is 1.198970554098729, the accuracy score is 0.7786664421619801\n",
                        "Current n_neighbour is 14, the log_loss is 1.1673723901756425, the accuracy score is 0.7773194140427682\n",
                        "Current n_neighbour is 15, the log_loss is 1.1041254371120313, the accuracy score is 0.7776561710725711\n",
                        "Current n_neighbour is 16, the log_loss is 1.0744825434474694, the accuracy score is 0.7762249536959084\n",
                        "Current n_neighbour is 17, the log_loss is 1.0469518123462402, the accuracy score is 0.7762249536959084\n",
                        "Current n_neighbour is 18, the log_loss is 1.0221041005651752, the accuracy score is 0.7765617107257115\n",
                        "Current n_neighbour is 19, the log_loss is 1.0051861670111886, the accuracy score is 0.7765617107257115\n",
                        "Current n_neighbour is 20, the log_loss is 0.9743298915411333, the accuracy score is 0.7742044115170904\n",
                        "Current n_neighbour is 21, the log_loss is 0.9500617534482698, the accuracy score is 0.7734467082000337\n",
                        "Current n_neighbour is 22, the log_loss is 0.914470489319416, the accuracy score is 0.7715945445361172\n",
                        "Current n_neighbour is 23, the log_loss is 0.8908816551144055, the accuracy score is 0.7717629230510187\n",
                        "Current n_neighbour is 24, the log_loss is 0.8788141572455583, the accuracy score is 0.7720996800808216\n"
                    ]
                }
            ],
            "metadata": {}
        },
        {
            "cell_type": "code",
            "execution_count": 38,
            "source": [
                "sorted_dict = sorted(checking_dict.items(), key = lambda kv:(kv[1], kv[0]),reverse=True)\r\n",
                "# print(sorted_dict[0])\r\n",
                "best_n_neighbour = sorted_dict[0][0]\r\n",
                "best_accuracy = sorted_dict[0][1]\r\n",
                "print(f\"The current best acc is {best_accuracy}, and the best n neighbours is {best_n_neighbour}\")"
            ],
            "outputs": [
                {
                    "output_type": "stream",
                    "name": "stdout",
                    "text": [
                        "The current best acc is 0.7792557669641353, and the best n neighbours is 7\n"
                    ]
                }
            ],
            "metadata": {}
        },
        {
            "cell_type": "code",
            "execution_count": 39,
            "source": [
                "# The n_neighbors=3 is due to KNeighboursClassifier [k=3]\r\n",
                "knn_classifier = KNeighborsClassifier(n_neighbors=best_n_neighbour)\r\n",
                "# fit the knn classifier\r\n",
                "knn_classifier.fit(Train_X ,Train_Y.ravel())"
            ],
            "outputs": [
                {
                    "output_type": "execute_result",
                    "data": {
                        "text/plain": [
                            "KNeighborsClassifier(n_neighbors=7)"
                        ]
                    },
                    "metadata": {},
                    "execution_count": 39
                }
            ],
            "metadata": {}
        },
        {
            "cell_type": "code",
            "execution_count": 40,
            "source": [
                "predict_y = knn_classifier.predict(Test_X)\r\n",
                "predict_y_proba = knn_classifier.predict_proba(Test_X)"
            ],
            "outputs": [],
            "metadata": {}
        },
        {
            "cell_type": "code",
            "execution_count": 41,
            "source": [
                "print(predict_y)"
            ],
            "outputs": [
                {
                    "output_type": "stream",
                    "name": "stdout",
                    "text": [
                        "['Class_3' 'Class_6' 'Class_5' ... 'Class_5' 'Class_6' 'Class_2']\n"
                    ]
                }
            ],
            "metadata": {}
        },
        {
            "cell_type": "code",
            "execution_count": 42,
            "source": [
                "normal_KNN_report = metrics.classification_report(Test_Y,predict_y)\r\n",
                "acc_score = accuracy_score(Test_Y,predict_y)\r\n",
                "log_loss_result = log_loss(Test_Y, predict_y_proba)"
            ],
            "outputs": [],
            "metadata": {}
        },
        {
            "cell_type": "code",
            "execution_count": 43,
            "source": [
                "print(normal_KNN_report)\r\n",
                "print(acc_score)\r\n",
                "print(log_loss_result)"
            ],
            "outputs": [
                {
                    "output_type": "stream",
                    "name": "stdout",
                    "text": [
                        "              precision    recall  f1-score   support\n",
                        "\n",
                        "     Class_1       0.58      0.52      0.55       346\n",
                        "     Class_2       0.69      0.83      0.75      3070\n",
                        "     Class_3       0.51      0.46      0.48      1484\n",
                        "     Class_4       0.61      0.24      0.34       495\n",
                        "     Class_5       0.93      0.98      0.95       586\n",
                        "     Class_6       0.95      0.93      0.94      2730\n",
                        "     Class_7       0.75      0.55      0.63       554\n",
                        "     Class_8       0.91      0.90      0.90      1650\n",
                        "     Class_9       0.85      0.87      0.86       963\n",
                        "\n",
                        "    accuracy                           0.78     11878\n",
                        "   macro avg       0.75      0.70      0.71     11878\n",
                        "weighted avg       0.78      0.78      0.77     11878\n",
                        "\n",
                        "0.7792557669641353\n",
                        "1.8202891488831725\n"
                    ]
                }
            ],
            "metadata": {}
        },
        {
            "cell_type": "code",
            "execution_count": 44,
            "source": [
                "ground_truth_dict = {\"Class_1\":0,\"Class_2\":0,\"Class_3\":0,\"Class_4\":0,\"Class_5\":0,\"Class_6\":0,\"Class_7\":0,\"Class_8\":0,\"Class_9\":0}\r\n",
                "knn_result_dict = {\"Class_1\":0,\"Class_2\":0,\"Class_3\":0,\"Class_4\":0,\"Class_5\":0,\"Class_6\":0,\"Class_7\":0,\"Class_8\":0,\"Class_9\":0}"
            ],
            "outputs": [],
            "metadata": {}
        },
        {
            "cell_type": "code",
            "execution_count": 45,
            "source": [
                "for item in Test_Y:\r\n",
                "    ground_truth_dict[item[-1]] += 1\r\n",
                "print(ground_truth_dict)\r\n",
                "    \r\n",
                "for item in predict_y:\r\n",
                "    knn_result_dict[item] += 1\r\n",
                "print(knn_result_dict)"
            ],
            "outputs": [
                {
                    "output_type": "stream",
                    "name": "stdout",
                    "text": [
                        "{'Class_1': 346, 'Class_2': 3070, 'Class_3': 1484, 'Class_4': 495, 'Class_5': 586, 'Class_6': 2730, 'Class_7': 554, 'Class_8': 1650, 'Class_9': 963}\n",
                        "{'Class_1': 308, 'Class_2': 3708, 'Class_3': 1352, 'Class_4': 196, 'Class_5': 616, 'Class_6': 2676, 'Class_7': 407, 'Class_8': 1630, 'Class_9': 985}\n"
                    ]
                }
            ],
            "metadata": {}
        },
        {
            "cell_type": "code",
            "execution_count": 46,
            "source": [
                "import matplotlib.pyplot as plt"
            ],
            "outputs": [],
            "metadata": {}
        },
        {
            "cell_type": "code",
            "execution_count": 47,
            "source": [
                "plt.figure(figsize=(8, 8))\r\n",
                "l1=plt.plot(ground_truth_dict.keys(),ground_truth_dict.values(),'r--',label='ground truth')\r\n",
                "l2=plt.plot(knn_result_dict.keys(),knn_result_dict.values(),'g--',label='KNN_prediction')\r\n",
                "plt.title('The Prediction VS Ground Truth')\r\n",
                "plt.xlabel('Classes')\r\n",
                "plt.ylabel('Number')\r\n",
                "plt.legend()\r\n",
                "plt.show()"
            ],
            "outputs": [
                {
                    "output_type": "display_data",
                    "data": {
                        "text/plain": [
                            "<Figure size 576x576 with 1 Axes>"
                        ],
                        "image/png": "[encoded data removed]"
                    },
                    "metadata": {
                        "needs_background": "light"
                    }
                }
            ],
            "metadata": {}
        },
        {
            "cell_type": "code",
            "execution_count": 48,
            "source": [
                "from sklearn.metrics import confusion_matrix\r\n",
                "confusion_KNN = confusion_matrix(predict_y, Test_Y)\r\n",
                "plt.imshow(confusion_KNN, cmap=plt.cm.Blues)"
            ],
            "outputs": [
                {
                    "output_type": "execute_result",
                    "data": {
                        "text/plain": [
                            "<matplotlib.image.AxesImage at 0x1ab3c2634f0>"
                        ]
                    },
                    "metadata": {},
                    "execution_count": 48
                },
                {
                    "output_type": "display_data",
                    "data": {
                        "text/plain": [
                            "<Figure size 432x288 with 1 Axes>"
                        ],
                        "image/png": "[encoded data removed]"
                    },
                    "metadata": {
                        "needs_background": "light"
                    }
                }
            ],
            "metadata": {}
        }
    ],
    "metadata": {
        "orig_nbformat": 4,
        "language_info": {
            "name": "python",
            "version": "3.8.8",
            "mimetype": "text/x-python",
            "codemirror_mode": {
                "name": "ipython",
                "version": 3
            },
            "pygments_lexer": "ipython3",
            "nbconvert_exporter": "python",
            "file_extension": ".py"
        },
        "kernelspec": {
            "name": "python3",
            "display_name": "Python 3.8.8 64-bit ('tf24': conda)"
        },
        "interpreter": {
            "hash": "fc41597814ff85e0caced484d48bad3e0926c3d440aa194648a264b83f287c05"
        }
    },
    "nbformat": 4,
    "nbformat_minor": 2
}