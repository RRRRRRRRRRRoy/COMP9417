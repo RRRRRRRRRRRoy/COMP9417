{
    "cells": [
        {
            "cell_type": "code",
            "execution_count": 1,
            "source": [
                "import numpy as np\r\n",
                "import pandas as pd\r\n",
                "from sklearn.utils import shuffle\r\n",
                "from sklearn import metrics\r\n",
                "from sklearn.model_selection import GridSearchCV\r\n",
                "from sklearn.model_selection import KFold\r\n",
                "from sklearn.neighbors import KNeighborsClassifier\r\n",
                "from sklearn.cluster import KMeans"
            ],
            "outputs": [],
            "metadata": {}
        },
        {
            "cell_type": "code",
            "execution_count": 2,
            "source": [
                "raw_train_data = pd.read_csv(\"D:\\\\train.csv\")\r\n",
                "raw_test_data = pd.read_csv(\"D:\\\\test.csv\")"
            ],
            "outputs": [],
            "metadata": {}
        },
        {
            "cell_type": "code",
            "execution_count": 3,
            "source": [
                "print(raw_train_data.shape)\r\n",
                "print(raw_test_data.shape)"
            ],
            "outputs": [
                {
                    "output_type": "stream",
                    "name": "stdout",
                    "text": [
                        "(61878, 95)\n",
                        "(144368, 94)\n"
                    ]
                }
            ],
            "metadata": {}
        },
        {
            "cell_type": "code",
            "execution_count": 4,
            "source": [
                "Train_data = raw_train_data.iloc[:, 1:95]\r\n",
                "labels = set(Train_data.iloc[:,93:94].target)\r\n",
                "Valid_x = np.array(raw_test_data.iloc[:, 1:94])\r\n",
                "Total_x = np.array(Train_data.iloc[:,0:93])\r\n",
                "Total_y = np.array(Train_data.iloc[:,93:94])"
            ],
            "outputs": [],
            "metadata": {}
        },
        {
            "cell_type": "code",
            "execution_count": 5,
            "source": [
                "print(f\"The current has the following label {labels}\")\r\n",
                "print(f\"The shape the Total_X {Total_x.shape}\")\r\n",
                "print(f\"The shape the Total_Y {Total_y.shape}\")\r\n",
                "print(f\"The shape the Valid_X {Valid_x.shape}\")\r\n",
                "print(f\"Check Nan in Total_X {set(np.isnan(Total_x).any(axis=1))}\")\r\n",
                "# print(f\"Check Nan in Train_Y {np.isnan(Train_Y).any(axis=1)}\")\r\n",
                "print(f\"Check Nan in Valid_X {set(np.isnan(Valid_x).any(axis=1))}\")"
            ],
            "outputs": [
                {
                    "output_type": "stream",
                    "name": "stdout",
                    "text": [
                        "The current has the following label {'Class_8', 'Class_4', 'Class_5', 'Class_9', 'Class_6', 'Class_7', 'Class_1', 'Class_2', 'Class_3'}\n",
                        "The shape the Total_X (61878, 93)\n",
                        "The shape the Total_Y (61878, 1)\n",
                        "The shape the Valid_X (144368, 93)\n",
                        "Check Nan in Total_X {False}\n",
                        "Check Nan in Valid_X {False}\n"
                    ]
                }
            ],
            "metadata": {}
        },
        {
            "cell_type": "code",
            "execution_count": 6,
            "source": [
                "Total_X,Total_Y = shuffle(Total_x,Total_y)"
            ],
            "outputs": [],
            "metadata": {}
        },
        {
            "cell_type": "code",
            "execution_count": 7,
            "source": [
                "# In this part using the previous 50000 to do the training and the last data to do the test check the score\r\n",
                "Train_X = Total_X[:50000]\r\n",
                "Train_Y = Total_Y[:50000]\r\n",
                "Test_X = Total_X[50000:]\r\n",
                "Test_Y = Total_Y[50000:]\r\n",
                "print(Train_X.shape)\r\n",
                "print(Train_Y.shape)\r\n",
                "print(Test_X.shape)\r\n",
                "print(Test_Y.shape)"
            ],
            "outputs": [
                {
                    "output_type": "stream",
                    "name": "stdout",
                    "text": [
                        "(50000, 93)\n",
                        "(50000, 1)\n",
                        "(11878, 93)\n",
                        "(11878, 1)\n"
                    ]
                }
            ],
            "metadata": {}
        },
        {
            "cell_type": "code",
            "execution_count": 8,
            "source": [
                "# The n_neighbors=3 is due to KNeighboursClassifier [k=3]\r\n",
                "knn_classifier = KNeighborsClassifier(n_neighbors=9)\r\n",
                "# fit the knn classifier\r\n",
                "knn_classifier.fit(Train_X ,Train_Y.ravel())"
            ],
            "outputs": [
                {
                    "output_type": "execute_result",
                    "data": {
                        "text/plain": [
                            "KNeighborsClassifier(n_neighbors=9)"
                        ]
                    },
                    "metadata": {},
                    "execution_count": 8
                }
            ],
            "metadata": {}
        },
        {
            "cell_type": "code",
            "execution_count": 9,
            "source": [
                "predict_y = knn_classifier.predict(Test_X)"
            ],
            "outputs": [],
            "metadata": {}
        },
        {
            "cell_type": "code",
            "execution_count": 12,
            "source": [
                "normal_KNN_report = metrics.classification_report(Test_Y,predict_y)"
            ],
            "outputs": [],
            "metadata": {}
        },
        {
            "cell_type": "code",
            "execution_count": 13,
            "source": [
                "print(normal_KNN_report)"
            ],
            "outputs": [
                {
                    "output_type": "stream",
                    "name": "stdout",
                    "text": [
                        "              precision    recall  f1-score   support\n",
                        "\n",
                        "     Class_1       0.57      0.53      0.55       365\n",
                        "     Class_2       0.69      0.84      0.76      3120\n",
                        "     Class_3       0.52      0.47      0.49      1498\n",
                        "     Class_4       0.68      0.29      0.41       514\n",
                        "     Class_5       0.93      0.98      0.95       507\n",
                        "     Class_6       0.94      0.92      0.93      2747\n",
                        "     Class_7       0.78      0.52      0.62       575\n",
                        "     Class_8       0.90      0.90      0.90      1605\n",
                        "     Class_9       0.83      0.86      0.85       947\n",
                        "\n",
                        "    accuracy                           0.78     11878\n",
                        "   macro avg       0.76      0.70      0.72     11878\n",
                        "weighted avg       0.78      0.78      0.77     11878\n",
                        "\n"
                    ]
                }
            ],
            "metadata": {}
        },
        {
            "cell_type": "code",
            "execution_count": null,
            "source": [],
            "outputs": [],
            "metadata": {}
        }
    ],
    "metadata": {
        "orig_nbformat": 4,
        "language_info": {
            "name": "python",
            "version": "3.8.8",
            "mimetype": "text/x-python",
            "codemirror_mode": {
                "name": "ipython",
                "version": 3
            },
            "pygments_lexer": "ipython3",
            "nbconvert_exporter": "python",
            "file_extension": ".py"
        },
        "kernelspec": {
            "name": "python3",
            "display_name": "Python 3.8.8 64-bit ('tf24': conda)"
        },
        "interpreter": {
            "hash": "fc41597814ff85e0caced484d48bad3e0926c3d440aa194648a264b83f287c05"
        }
    },
    "nbformat": 4,
    "nbformat_minor": 2
}