{
 "cells": [
  {
   "cell_type": "code",
   "execution_count": 1,
   "source": [
    "# This is for the COMP9417 Group Project\r\n",
    "# The problem is the OTTO in the Kaggle\r\n",
    "# Source: https://www.kaggle.com/c/otto-group-product-classification-challenge/overview"
   ],
   "outputs": [],
   "metadata": {}
  },
  {
   "cell_type": "code",
   "execution_count": 2,
   "source": [
    "import numpy as np\r\n",
    "import pandas as pd"
   ],
   "outputs": [],
   "metadata": {}
  },
  {
   "cell_type": "code",
   "execution_count": 3,
   "source": [
    "raw_train_data = pd.read_csv(\"D:\\\\train.csv\")\r\n",
    "raw_test_data = pd.read_csv(\"D:\\\\test.csv\")"
   ],
   "outputs": [],
   "metadata": {}
  },
  {
   "cell_type": "code",
   "execution_count": 4,
   "source": [
    "print(raw_train_data.shape)\r\n",
    "print(raw_test_data.shape)\r\n"
   ],
   "outputs": [
    {
     "output_type": "stream",
     "name": "stdout",
     "text": [
      "(61878, 95)\n",
      "(144368, 94)\n"
     ]
    }
   ],
   "metadata": {}
  },
  {
   "cell_type": "code",
   "execution_count": 7,
   "source": [
    "Train_data = raw_train_data.iloc[:, 1:95]\r\n",
    "labels = set(Train_data.iloc[:,93:94].target)\r\n",
    "Test_X = np.array(raw_test_data.iloc[:, 1:94])\r\n",
    "Train_X = np.array(Train_data.iloc[:,0:93])\r\n",
    "Train_Y = np.array(Train_data.iloc[:,93:94])"
   ],
   "outputs": [],
   "metadata": {}
  },
  {
   "cell_type": "code",
   "execution_count": 21,
   "source": [
    "print(f\"The current has the following label {labels}\")\r\n",
    "print(f\"The shape the Train_Y {Train_X.shape}\")\r\n",
    "print(f\"The shape the Train_Y {Train_Y.shape}\")\r\n",
    "print(f\"The shape the Test_X {Test_X.shape}\")\r\n",
    "print(f\"Check Nan in Train_X {set(np.isnan(Train_X).any(axis=1))}\")\r\n",
    "# print(f\"Check Nan in Train_Y {np.isnan(Train_Y).any(axis=1)}\")\r\n",
    "print(f\"Check Nan in Test_X {set(np.isnan(Test_X).any(axis=1))}\")"
   ],
   "outputs": [
    {
     "output_type": "stream",
     "name": "stdout",
     "text": [
      "The current has the following label {'Class_4', 'Class_6', 'Class_9', 'Class_2', 'Class_7', 'Class_1', 'Class_5', 'Class_3', 'Class_8'}\n",
      "The shape the Train_Y (61878, 93)\n",
      "The shape the Train_Y (61878, 1)\n",
      "The shape the Test_X (144368, 93)\n",
      "Check Nan in Train_X {False}\n",
      "Check Nan in Test_X {False}\n"
     ]
    }
   ],
   "metadata": {}
  },
  {
   "cell_type": "code",
   "execution_count": 24,
   "source": [
    "from sklearn.neighbors import KNeighborsClassifier"
   ],
   "outputs": [],
   "metadata": {}
  },
  {
   "cell_type": "code",
   "execution_count": 26,
   "source": [
    "# The n_neighbors=3 is due to KNeighboursClassifier [k=3]\r\n",
    "knn_classifier = KNeighborsClassifier(n_neighbors=9)\r\n",
    "# fit the knn classifier\r\n",
    "knn_classifier.fit(Train_X ,Train_Y.ravel())"
   ],
   "outputs": [
    {
     "output_type": "execute_result",
     "data": {
      "text/plain": [
       "KNeighborsClassifier(n_neighbors=9)"
      ]
     },
     "metadata": {},
     "execution_count": 26
    }
   ],
   "metadata": {}
  },
  {
   "cell_type": "code",
   "execution_count": 27,
   "source": [
    "predict_y = knn_classifier.predict(Test_X)"
   ],
   "outputs": [],
   "metadata": {}
  },
  {
   "cell_type": "code",
   "execution_count": 28,
   "source": [
    "from sklearn import metrics"
   ],
   "outputs": [],
   "metadata": {}
  },
  {
   "cell_type": "code",
   "execution_count": 30,
   "source": [
    "print(predict_y.shape)"
   ],
   "outputs": [
    {
     "output_type": "stream",
     "name": "stdout",
     "text": [
      "['Class_3' 'Class_6' 'Class_6' ... 'Class_3' 'Class_4' 'Class_3']\n"
     ]
    }
   ],
   "metadata": {}
  }
 ],
 "metadata": {
  "orig_nbformat": 4,
  "language_info": {
   "name": "python",
   "version": "3.8.8",
   "mimetype": "text/x-python",
   "codemirror_mode": {
    "name": "ipython",
    "version": 3
   },
   "pygments_lexer": "ipython3",
   "nbconvert_exporter": "python",
   "file_extension": ".py"
  },
  "kernelspec": {
   "name": "python3",
   "display_name": "Python 3.8.8 64-bit ('tf24': conda)"
  },
  "interpreter": {
   "hash": "fc41597814ff85e0caced484d48bad3e0926c3d440aa194648a264b83f287c05"
  }
 },
 "nbformat": 4,
 "nbformat_minor": 2
}