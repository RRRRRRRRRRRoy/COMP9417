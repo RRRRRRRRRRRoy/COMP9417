{
    "cells": [
        {
            "cell_type": "code",
            "execution_count": 34,
            "source": [
                "import numpy as np\r\n",
                "import pandas as pd\r\n",
                "from sklearn.utils import shuffle\r\n",
                "from sklearn.cluster import KMeans\r\n",
                "from sklearn.metrics import log_loss\r\n",
                "from sklearn import metrics\r\n",
                "from sklearn.metrics import log_loss,confusion_matrix"
            ],
            "outputs": [],
            "metadata": {}
        },
        {
            "cell_type": "code",
            "execution_count": 35,
            "source": [
                "raw_train_data = pd.read_csv(\"D:\\\\train.csv\")\r\n",
                "raw_test_data = pd.read_csv(\"D:\\\\test.csv\")"
            ],
            "outputs": [],
            "metadata": {}
        },
        {
            "cell_type": "code",
            "execution_count": 36,
            "source": [
                "print(raw_train_data.shape)\r\n",
                "print(raw_test_data.shape)"
            ],
            "outputs": [
                {
                    "output_type": "stream",
                    "name": "stdout",
                    "text": [
                        "(61878, 95)\n",
                        "(144368, 94)\n"
                    ]
                }
            ],
            "metadata": {}
        },
        {
            "cell_type": "code",
            "execution_count": 37,
            "source": [
                "Train_data = raw_train_data.iloc[:, 1:95]\r\n",
                "labels = set(Train_data.iloc[:,93:94].target)\r\n",
                "Valid_x = np.array(raw_test_data.iloc[:, 1:94])\r\n",
                "Total_x = np.array(Train_data.iloc[:,0:93])\r\n",
                "Total_y = np.array(Train_data.iloc[:,93:94])"
            ],
            "outputs": [],
            "metadata": {}
        },
        {
            "cell_type": "code",
            "execution_count": 38,
            "source": [
                "print(f\"The current has the following label {labels}\")\r\n",
                "print(f\"The shape the Total_X {Total_x.shape}\")\r\n",
                "print(f\"The shape the Total_Y {Total_y.shape}\")\r\n",
                "print(f\"The shape the Valid_X {Valid_x.shape}\")\r\n",
                "print(f\"Check Nan in Total_X {set(np.isnan(Total_x).any(axis=1))}\")\r\n",
                "# print(f\"Check Nan in Train_Y {np.isnan(Train_Y).any(axis=1)}\")\r\n",
                "print(f\"Check Nan in Valid_X {set(np.isnan(Valid_x).any(axis=1))}\")"
            ],
            "outputs": [
                {
                    "output_type": "stream",
                    "name": "stdout",
                    "text": [
                        "The current has the following label {'Class_1', 'Class_7', 'Class_3', 'Class_2', 'Class_6', 'Class_5', 'Class_8', 'Class_4', 'Class_9'}\n",
                        "The shape the Total_X (61878, 93)\n",
                        "The shape the Total_Y (61878, 1)\n",
                        "The shape the Valid_X (144368, 93)\n",
                        "Check Nan in Total_X {False}\n",
                        "Check Nan in Valid_X {False}\n"
                    ]
                }
            ],
            "metadata": {}
        },
        {
            "cell_type": "code",
            "execution_count": 39,
            "source": [
                "# np.random.seed(10)\r\n",
                "Total_X,Total_Y = shuffle(Total_x,Total_y)"
            ],
            "outputs": [],
            "metadata": {}
        },
        {
            "cell_type": "code",
            "execution_count": 40,
            "source": [
                "# In this part using the previous 50000 to do the training and the last data to do the test check the score\r\n",
                "Train_X = Total_X[:50000]\r\n",
                "Train_Y = Total_Y[:50000]\r\n",
                "Test_X = Total_X[50000:]\r\n",
                "Test_Y = Total_Y[50000:]\r\n",
                "print(Train_X.shape)\r\n",
                "print(Train_Y.shape)\r\n",
                "print(Test_X.shape)\r\n",
                "print(Test_Y.shape)"
            ],
            "outputs": [
                {
                    "output_type": "stream",
                    "name": "stdout",
                    "text": [
                        "(50000, 93)\n",
                        "(50000, 1)\n",
                        "(11878, 93)\n",
                        "(11878, 1)\n"
                    ]
                }
            ],
            "metadata": {}
        },
        {
            "cell_type": "code",
            "execution_count": 41,
            "source": [
                "from sklearn.naive_bayes import GaussianNB\r\n",
                "from sklearn.naive_bayes import MultinomialNB\r\n",
                "from sklearn.naive_bayes import BernoulliNB\r\n",
                "from sklearn.naive_bayes import CategoricalNB\r\n",
                "GNB_model = GaussianNB()\r\n",
                "MNB_model = MultinomialNB()\r\n",
                "BNB_model = BernoulliNB()\r\n",
                "GNB_model.fit(Train_X, Train_Y.ravel())\r\n",
                "MNB_model.fit(Train_X, Train_Y.ravel())\r\n",
                "BNB_model.fit(Train_X, Train_Y.ravel())"
            ],
            "outputs": [
                {
                    "output_type": "execute_result",
                    "data": {
                        "text/plain": [
                            "BernoulliNB()"
                        ]
                    },
                    "metadata": {},
                    "execution_count": 41
                }
            ],
            "metadata": {}
        },
        {
            "cell_type": "code",
            "execution_count": 42,
            "source": [
                "print(Test_X.shape)"
            ],
            "outputs": [
                {
                    "output_type": "stream",
                    "name": "stdout",
                    "text": [
                        "(11878, 93)\n"
                    ]
                }
            ],
            "metadata": {}
        },
        {
            "cell_type": "code",
            "execution_count": 43,
            "source": [
                "Y_pred_GNB = GNB_model.predict(Test_X)\r\n",
                "Y_pred_proba_GNB = GNB_model.predict_proba(Test_X)\r\n",
                "Y_pred_MNB = MNB_model.predict(Test_X)\r\n",
                "Y_pred_MNB_proba = MNB_model.predict_proba(Test_X)\r\n",
                "Y_pred_BNB = BNB_model.predict(Test_X)\r\n",
                "Y_pred_BNB_proba = BNB_model.predict_proba(Test_X)"
            ],
            "outputs": [],
            "metadata": {}
        },
        {
            "cell_type": "code",
            "execution_count": 44,
            "source": [
                "print(Y_pred_GNB)\r\n",
                "print(Y_pred_MNB)\r\n",
                "print(Y_pred_BNB)"
            ],
            "outputs": [
                {
                    "output_type": "stream",
                    "name": "stdout",
                    "text": [
                        "['Class_9' 'Class_9' 'Class_2' ... 'Class_3' 'Class_2' 'Class_4']\n",
                        "['Class_9' 'Class_8' 'Class_2' ... 'Class_8' 'Class_2' 'Class_4']\n",
                        "['Class_9' 'Class_1' 'Class_2' ... 'Class_1' 'Class_2' 'Class_2']\n"
                    ]
                }
            ],
            "metadata": {}
        },
        {
            "cell_type": "code",
            "execution_count": 45,
            "source": [
                "normal_GNB_report = metrics.classification_report(Test_Y,Y_pred_GNB)\r\n",
                "log_loss_result_GNB = log_loss(Test_Y, Y_pred_proba_GNB)\r\n",
                "normal_MNB_report = metrics.classification_report(Test_Y,Y_pred_MNB)\r\n",
                "log_loss_result_MNB = log_loss(Test_Y, Y_pred_MNB_proba)\r\n",
                "normal_BNB_report = metrics.classification_report(Test_Y,Y_pred_BNB)\r\n",
                "log_loss_result_BNB = log_loss(Test_Y, Y_pred_BNB_proba)"
            ],
            "outputs": [],
            "metadata": {}
        },
        {
            "cell_type": "code",
            "execution_count": 46,
            "source": [
                "print(normal_GNB_report)\r\n",
                "print(log_loss_result_GNB)\r\n",
                "print(normal_MNB_report)\r\n",
                "print(log_loss_result_MNB)\r\n",
                "print(normal_BNB_report)\r\n",
                "print(log_loss_result_BNB)"
            ],
            "outputs": [
                {
                    "output_type": "stream",
                    "name": "stdout",
                    "text": [
                        "              precision    recall  f1-score   support\n",
                        "\n",
                        "     Class_1       0.23      0.33      0.27       383\n",
                        "     Class_2       0.67      0.64      0.65      3184\n",
                        "     Class_3       0.47      0.28      0.35      1500\n",
                        "     Class_4       0.22      0.52      0.31       543\n",
                        "     Class_5       0.44      0.93      0.59       495\n",
                        "     Class_6       0.95      0.78      0.85      2703\n",
                        "     Class_7       0.41      0.50      0.45       492\n",
                        "     Class_8       0.91      0.54      0.68      1615\n",
                        "     Class_9       0.60      0.78      0.68       963\n",
                        "\n",
                        "    accuracy                           0.61     11878\n",
                        "   macro avg       0.54      0.59      0.54     11878\n",
                        "weighted avg       0.68      0.61      0.63     11878\n",
                        "\n",
                        "7.277258581501607\n",
                        "              precision    recall  f1-score   support\n",
                        "\n",
                        "     Class_1       0.26      0.54      0.35       383\n",
                        "     Class_2       0.73      0.65      0.69      3184\n",
                        "     Class_3       0.40      0.29      0.34      1500\n",
                        "     Class_4       0.24      0.61      0.34       543\n",
                        "     Class_5       0.88      0.95      0.91       495\n",
                        "     Class_6       0.93      0.83      0.87      2703\n",
                        "     Class_7       0.58      0.60      0.59       492\n",
                        "     Class_8       0.90      0.68      0.78      1615\n",
                        "     Class_9       0.70      0.83      0.76       963\n",
                        "\n",
                        "    accuracy                           0.67     11878\n",
                        "   macro avg       0.62      0.66      0.63     11878\n",
                        "weighted avg       0.72      0.67      0.68     11878\n",
                        "\n",
                        "3.479891477607637\n",
                        "              precision    recall  f1-score   support\n",
                        "\n",
                        "     Class_1       0.23      0.32      0.26       383\n",
                        "     Class_2       0.63      0.75      0.68      3184\n",
                        "     Class_3       0.40      0.25      0.31      1500\n",
                        "     Class_4       0.39      0.34      0.36       543\n",
                        "     Class_5       0.59      0.85      0.70       495\n",
                        "     Class_6       0.86      0.73      0.79      2703\n",
                        "     Class_7       0.36      0.46      0.40       492\n",
                        "     Class_8       0.73      0.63      0.68      1615\n",
                        "     Class_9       0.54      0.60      0.57       963\n",
                        "\n",
                        "    accuracy                           0.61     11878\n",
                        "   macro avg       0.52      0.55      0.53     11878\n",
                        "weighted avg       0.62      0.61      0.61     11878\n",
                        "\n",
                        "1.6842476214043578\n"
                    ]
                }
            ],
            "metadata": {}
        },
        {
            "cell_type": "code",
            "execution_count": 47,
            "source": [
                "checking_test_label={\"Class_1\":0,\"Class_2\":0,\"Class_3\":0,\"Class_4\":0,\"Class_5\":0,\"Class_6\":0,\"Class_7\":0,\"Class_8\":0,\"Class_9\":0}\r\n",
                "Test_GNB_counter={\"Class_1\":0,\"Class_2\":0,\"Class_3\":0,\"Class_4\":0,\"Class_5\":0,\"Class_6\":0,\"Class_7\":0,\"Class_8\":0,\"Class_9\":0}\r\n",
                "Test_MNB_counter={\"Class_1\":0,\"Class_2\":0,\"Class_3\":0,\"Class_4\":0,\"Class_5\":0,\"Class_6\":0,\"Class_7\":0,\"Class_8\":0,\"Class_9\":0}\r\n",
                "Test_BNB_counter={\"Class_1\":0,\"Class_2\":0,\"Class_3\":0,\"Class_4\":0,\"Class_5\":0,\"Class_6\":0,\"Class_7\":0,\"Class_8\":0,\"Class_9\":0}"
            ],
            "outputs": [],
            "metadata": {}
        },
        {
            "cell_type": "code",
            "execution_count": 48,
            "source": [
                "print(Y_pred_GNB)"
            ],
            "outputs": [
                {
                    "output_type": "stream",
                    "name": "stdout",
                    "text": [
                        "['Class_9' 'Class_9' 'Class_2' ... 'Class_3' 'Class_2' 'Class_4']\n"
                    ]
                }
            ],
            "metadata": {}
        },
        {
            "cell_type": "code",
            "execution_count": 49,
            "source": [
                "for item in Test_Y:\r\n",
                "    checking_test_label[item[-1]] += 1\r\n",
                "print(checking_test_label)\r\n",
                "\r\n",
                "for item in Y_pred_GNB:\r\n",
                "    Test_GNB_counter[item] += 1\r\n",
                "print(Test_GNB_counter)\r\n",
                "\r\n",
                "for item in Y_pred_MNB:\r\n",
                "    Test_MNB_counter[item] += 1\r\n",
                "print(Test_MNB_counter)\r\n",
                "\r\n",
                "for item in Y_pred_BNB:\r\n",
                "    Test_BNB_counter[item] += 1\r\n",
                "print(Test_BNB_counter)"
            ],
            "outputs": [
                {
                    "output_type": "stream",
                    "name": "stdout",
                    "text": [
                        "{'Class_1': 383, 'Class_2': 3184, 'Class_3': 1500, 'Class_4': 543, 'Class_5': 495, 'Class_6': 2703, 'Class_7': 492, 'Class_8': 1615, 'Class_9': 963}\n",
                        "{'Class_1': 548, 'Class_2': 3040, 'Class_3': 890, 'Class_4': 1317, 'Class_5': 1059, 'Class_6': 2216, 'Class_7': 596, 'Class_8': 966, 'Class_9': 1246}\n",
                        "{'Class_1': 786, 'Class_2': 2823, 'Class_3': 1066, 'Class_4': 1388, 'Class_5': 536, 'Class_6': 2417, 'Class_7': 510, 'Class_8': 1219, 'Class_9': 1133}\n",
                        "{'Class_1': 540, 'Class_2': 3799, 'Class_3': 946, 'Class_4': 483, 'Class_5': 719, 'Class_6': 2307, 'Class_7': 619, 'Class_8': 1396, 'Class_9': 1069}\n"
                    ]
                }
            ],
            "metadata": {}
        },
        {
            "cell_type": "code",
            "execution_count": 50,
            "source": [
                "import matplotlib.pyplot as plt"
            ],
            "outputs": [],
            "metadata": {}
        },
        {
            "cell_type": "code",
            "execution_count": 51,
            "source": [
                "GNB_model = GaussianNB()\r\n",
                "MNB_model = MultinomialNB()\r\n",
                "BNB_model = BernoulliNB()"
            ],
            "outputs": [],
            "metadata": {}
        },
        {
            "cell_type": "code",
            "execution_count": 52,
            "source": [
                "plt.figure(figsize=(8, 8))\r\n",
                "l1=plt.plot(checking_test_label.keys(),checking_test_label.values(),'r--',label='ground truth')\r\n",
                "l2=plt.plot(Test_GNB_counter.keys(),Test_GNB_counter.values(),'g--',label='GaussianNB')\r\n",
                "l3=plt.plot(Test_MNB_counter.keys(),Test_MNB_counter.values(),'b--',label='MultinomialNB')\r\n",
                "l4=plt.plot(Test_BNB_counter.keys(),Test_BNB_counter.values(),'y--',label='BernoulliNB')\r\n",
                "\r\n",
                "plt.title('The Prediction VS Ground Truth')\r\n",
                "plt.xlabel('Classes')\r\n",
                "plt.ylabel('Number')\r\n",
                "plt.legend()\r\n",
                "plt.show()"
            ],
            "outputs": [
                {
                    "output_type": "display_data",
                    "data": {
                        "text/plain": [
                            "<Figure size 576x576 with 1 Axes>"
                        ],
                        "image/png": "[encoded data removed]"
                    },
                    "metadata": {
                        "needs_background": "light"
                    }
                }
            ],
            "metadata": {}
        },
        {
            "cell_type": "code",
            "execution_count": 53,
            "source": [
                "confusion_GNB = confusion_matrix(Y_pred_GNB, Test_Y)\r\n",
                "confusion_MNB = confusion_matrix(Y_pred_MNB, Test_Y)\r\n",
                "confusion_BNB = confusion_matrix(Y_pred_BNB, Test_Y)\r\n"
            ],
            "outputs": [],
            "metadata": {}
        },
        {
            "cell_type": "code",
            "execution_count": 54,
            "source": [
                "plt.imshow(confusion_GNB, cmap=plt.cm.Blues)"
            ],
            "outputs": [
                {
                    "output_type": "execute_result",
                    "data": {
                        "text/plain": [
                            "<matplotlib.image.AxesImage at 0x20bbcf0d3d0>"
                        ]
                    },
                    "metadata": {},
                    "execution_count": 54
                },
                {
                    "output_type": "display_data",
                    "data": {
                        "text/plain": [
                            "<Figure size 432x288 with 1 Axes>"
                        ],
                        "image/png": "[encoded data removed]"
                    },
                    "metadata": {
                        "needs_background": "light"
                    }
                }
            ],
            "metadata": {}
        },
        {
            "cell_type": "code",
            "execution_count": 55,
            "source": [
                "plt.imshow(confusion_MNB, cmap=plt.cm.Blues)\r\n"
            ],
            "outputs": [
                {
                    "output_type": "execute_result",
                    "data": {
                        "text/plain": [
                            "<matplotlib.image.AxesImage at 0x20bbceaf7f0>"
                        ]
                    },
                    "metadata": {},
                    "execution_count": 55
                },
                {
                    "output_type": "display_data",
                    "data": {
                        "text/plain": [
                            "<Figure size 432x288 with 1 Axes>"
                        ],
                        "image/png": "[encoded data removed]"
                    },
                    "metadata": {
                        "needs_background": "light"
                    }
                }
            ],
            "metadata": {}
        },
        {
            "cell_type": "code",
            "execution_count": 56,
            "source": [
                "plt.imshow(confusion_BNB, cmap=plt.cm.Blues)"
            ],
            "outputs": [
                {
                    "output_type": "execute_result",
                    "data": {
                        "text/plain": [
                            "<matplotlib.image.AxesImage at 0x20bb746c700>"
                        ]
                    },
                    "metadata": {},
                    "execution_count": 56
                },
                {
                    "output_type": "display_data",
                    "data": {
                        "text/plain": [
                            "<Figure size 432x288 with 1 Axes>"
                        ],
                        "image/png": "[encoded data removed]"
                    },
                    "metadata": {
                        "needs_background": "light"
                    }
                }
            ],
            "metadata": {}
        },
        {
            "cell_type": "code",
            "execution_count": 57,
            "source": [
                "from sklearn.ensemble import AdaBoostClassifier"
            ],
            "outputs": [],
            "metadata": {}
        },
        {
            "cell_type": "code",
            "execution_count": 58,
            "source": [
                "Test_Y_num = np.array([np.array(int(i[-1])) for item in Test_Y for i in item])\r\n",
                "print(Test_Y_num)"
            ],
            "outputs": [
                {
                    "output_type": "stream",
                    "name": "stdout",
                    "text": [
                        "[9 8 2 ... 8 2 2]\n"
                    ]
                }
            ],
            "metadata": {}
        },
        {
            "cell_type": "code",
            "execution_count": 59,
            "source": [
                "GNB_model_Ada = AdaBoostClassifier(GaussianNB())\r\n",
                "MNB_model_Ada = AdaBoostClassifier(MultinomialNB())\r\n",
                "BNB_model_Ada = AdaBoostClassifier(BernoulliNB())\r\n",
                "GNB_model_Ada.fit(Train_X, Train_Y.ravel())\r\n",
                "MNB_model_Ada.fit(Train_X, Train_Y.ravel())\r\n",
                "BNB_model_Ada.fit(Train_X, Train_Y.ravel())"
            ],
            "outputs": [
                {
                    "output_type": "execute_result",
                    "data": {
                        "text/plain": [
                            "AdaBoostClassifier(base_estimator=BernoulliNB())"
                        ]
                    },
                    "metadata": {},
                    "execution_count": 59
                }
            ],
            "metadata": {}
        },
        {
            "cell_type": "code",
            "execution_count": 60,
            "source": [
                "Y_pred_GNB_Ada = GNB_model_Ada.predict(Test_X)\r\n",
                "Y_pred_proba_GNB_Ada = GNB_model_Ada.predict_proba(Test_X)\r\n",
                "Y_pred_MNB_Ada = MNB_model_Ada.predict(Test_X)\r\n",
                "Y_pred_MNB_proba_Ada = MNB_model_Ada.predict_proba(Test_X)\r\n",
                "Y_pred_BNB_Ada = BNB_model_Ada.predict(Test_X)\r\n",
                "Y_pred_BNB_proba_Ada = BNB_model_Ada.predict_proba(Test_X)"
            ],
            "outputs": [],
            "metadata": {}
        },
        {
            "cell_type": "code",
            "execution_count": 61,
            "source": [
                "normal_GNB_report_Ada = metrics.classification_report(Test_Y,Y_pred_GNB_Ada)\r\n",
                "log_loss_result_GNB_Ada = log_loss(Test_Y, Y_pred_proba_GNB_Ada)\r\n",
                "normal_MNB_report_Ada = metrics.classification_report(Test_Y,Y_pred_MNB_Ada)\r\n",
                "log_loss_result_MNB_Ada = log_loss(Test_Y, Y_pred_MNB_proba_Ada)\r\n",
                "normal_BNB_report_Ada = metrics.classification_report(Test_Y,Y_pred_BNB_Ada)\r\n",
                "log_loss_result_BNB_Ada = log_loss(Test_Y, Y_pred_BNB_proba_Ada)"
            ],
            "outputs": [
                {
                    "output_type": "stream",
                    "name": "stderr",
                    "text": [
                        "E:\\Anaconda\\envs\\tf24\\lib\\site-packages\\sklearn\\metrics\\_classification.py:1245: UndefinedMetricWarning: Precision and F-score are ill-defined and being set to 0.0 in labels with no predicted samples. Use `zero_division` parameter to control this behavior.\n",
                        "  _warn_prf(average, modifier, msg_start, len(result))\n",
                        "E:\\Anaconda\\envs\\tf24\\lib\\site-packages\\sklearn\\metrics\\_classification.py:1245: UndefinedMetricWarning: Precision and F-score are ill-defined and being set to 0.0 in labels with no predicted samples. Use `zero_division` parameter to control this behavior.\n",
                        "  _warn_prf(average, modifier, msg_start, len(result))\n",
                        "E:\\Anaconda\\envs\\tf24\\lib\\site-packages\\sklearn\\metrics\\_classification.py:1245: UndefinedMetricWarning: Precision and F-score are ill-defined and being set to 0.0 in labels with no predicted samples. Use `zero_division` parameter to control this behavior.\n",
                        "  _warn_prf(average, modifier, msg_start, len(result))\n"
                    ]
                }
            ],
            "metadata": {}
        },
        {
            "cell_type": "code",
            "execution_count": 62,
            "source": [
                "print(normal_GNB_report_Ada)\r\n",
                "print(log_loss_result_GNB_Ada)\r\n",
                "print(normal_MNB_report_Ada)\r\n",
                "print(log_loss_result_MNB_Ada)\r\n",
                "print(normal_BNB_report_Ada)\r\n",
                "print(log_loss_result_BNB_Ada)"
            ],
            "outputs": [
                {
                    "output_type": "stream",
                    "name": "stdout",
                    "text": [
                        "              precision    recall  f1-score   support\n",
                        "\n",
                        "     Class_1       0.17      0.33      0.22       383\n",
                        "     Class_2       0.60      0.31      0.41      3184\n",
                        "     Class_3       0.26      0.54      0.35      1500\n",
                        "     Class_4       0.17      0.27      0.21       543\n",
                        "     Class_5       0.88      0.83      0.85       495\n",
                        "     Class_6       0.75      0.74      0.75      2703\n",
                        "     Class_7       0.28      0.39      0.32       492\n",
                        "     Class_8       0.74      0.54      0.62      1615\n",
                        "     Class_9       0.66      0.39      0.49       963\n",
                        "\n",
                        "    accuracy                           0.50     11878\n",
                        "   macro avg       0.50      0.48      0.47     11878\n",
                        "weighted avg       0.58      0.50      0.51     11878\n",
                        "\n",
                        "              precision    recall  f1-score   support\n",
                        "\n",
                        "     Class_1       0.00      0.00      0.00       383\n",
                        "     Class_2       0.00      0.00      0.00      3184\n",
                        "     Class_3       0.00      0.00      0.00      1500\n",
                        "     Class_4       0.00      0.00      0.00       543\n",
                        "     Class_5       0.00      0.00      0.00       495\n",
                        "     Class_6       0.23      1.00      0.37      2703\n",
                        "     Class_7       0.00      0.00      0.00       492\n",
                        "     Class_8       0.00      0.00      0.00      1615\n",
                        "     Class_9       0.00      0.00      0.00       963\n",
                        "\n",
                        "    accuracy                           0.23     11878\n",
                        "   macro avg       0.03      0.11      0.04     11878\n",
                        "weighted avg       0.05      0.23      0.08     11878\n",
                        "\n",
                        "              precision    recall  f1-score   support\n",
                        "\n",
                        "     Class_1       0.14      0.60      0.23       383\n",
                        "     Class_2       0.70      0.06      0.11      3184\n",
                        "     Class_3       0.48      0.03      0.05      1500\n",
                        "     Class_4       0.12      0.83      0.20       543\n",
                        "     Class_5       0.42      0.95      0.59       495\n",
                        "     Class_6       0.87      0.66      0.75      2703\n",
                        "     Class_7       0.16      0.59      0.25       492\n",
                        "     Class_8       0.75      0.41      0.53      1615\n",
                        "     Class_9       0.81      0.17      0.28       963\n",
                        "\n",
                        "    accuracy                           0.36     11878\n",
                        "   macro avg       0.49      0.48      0.33     11878\n",
                        "weighted avg       0.65      0.36      0.35     11878\n",
                        "\n"
                    ]
                }
            ],
            "metadata": {}
        }
    ],
    "metadata": {
        "orig_nbformat": 4,
        "language_info": {
            "name": "python",
            "version": "3.8.8",
            "mimetype": "text/x-python",
            "codemirror_mode": {
                "name": "ipython",
                "version": 3
            },
            "pygments_lexer": "ipython3",
            "nbconvert_exporter": "python",
            "file_extension": ".py"
        },
        "kernelspec": {
            "name": "python3",
            "display_name": "Python 3.8.8 64-bit ('tf24': conda)"
        },
        "interpreter": {
            "hash": "fc41597814ff85e0caced484d48bad3e0926c3d440aa194648a264b83f287c05"
        }
    },
    "nbformat": 4,
    "nbformat_minor": 2
}