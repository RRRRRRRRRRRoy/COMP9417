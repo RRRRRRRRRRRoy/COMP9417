{
    "cells": [
        {
            "cell_type": "code",
            "execution_count": 114,
            "source": [
                "import numpy as np\r\n",
                "import pandas as pd\r\n",
                "from sklearn.utils import shuffle\r\n",
                "from sklearn.metrics import log_loss\r\n",
                "from sklearn import metrics\r\n",
                "from sklearn.metrics import log_loss"
            ],
            "outputs": [],
            "metadata": {}
        },
        {
            "cell_type": "code",
            "execution_count": 115,
            "source": [
                "raw_train_data = pd.read_csv(\"D:\\\\train.csv\")\r\n",
                "raw_test_data = pd.read_csv(\"D:\\\\test.csv\")"
            ],
            "outputs": [],
            "metadata": {}
        },
        {
            "cell_type": "code",
            "execution_count": 116,
            "source": [
                "print(raw_train_data.shape)\r\n",
                "print(raw_test_data.shape)"
            ],
            "outputs": [
                {
                    "output_type": "stream",
                    "name": "stdout",
                    "text": [
                        "(61878, 95)\n",
                        "(144368, 94)\n"
                    ]
                }
            ],
            "metadata": {}
        },
        {
            "cell_type": "code",
            "execution_count": 117,
            "source": [
                "Train_data = raw_train_data.iloc[:, 1:95]\r\n",
                "labels = set(Train_data.iloc[:,93:94].target)\r\n",
                "Valid_x = np.array(raw_test_data.iloc[:, 1:94])\r\n",
                "Total_x = np.array(Train_data.iloc[:,0:93])\r\n",
                "Total_y = np.array(Train_data.iloc[:,93:94])"
            ],
            "outputs": [],
            "metadata": {}
        },
        {
            "cell_type": "code",
            "execution_count": 118,
            "source": [
                "print(f\"The current has the following label {labels}\")\r\n",
                "print(f\"The shape the Total_X {Total_x.shape}\")\r\n",
                "print(f\"The shape the Total_Y {Total_y.shape}\")\r\n",
                "print(f\"The shape the Valid_X {Valid_x.shape}\")\r\n",
                "print(f\"Check Nan in Total_X {set(np.isnan(Total_x).any(axis=1))}\")\r\n",
                "# print(f\"Check Nan in Train_Y {np.isnan(Train_Y).any(axis=1)}\")\r\n",
                "print(f\"Check Nan in Valid_X {set(np.isnan(Valid_x).any(axis=1))}\")"
            ],
            "outputs": [
                {
                    "output_type": "stream",
                    "name": "stdout",
                    "text": [
                        "The current has the following label {'Class_9', 'Class_5', 'Class_6', 'Class_7', 'Class_8', 'Class_3', 'Class_2', 'Class_4', 'Class_1'}\n",
                        "The shape the Total_X (61878, 93)\n",
                        "The shape the Total_Y (61878, 1)\n",
                        "The shape the Valid_X (144368, 93)\n",
                        "Check Nan in Total_X {False}\n",
                        "Check Nan in Valid_X {False}\n"
                    ]
                }
            ],
            "metadata": {}
        },
        {
            "cell_type": "code",
            "execution_count": 119,
            "source": [
                "np.random.seed(10)\r\n",
                "Total_X,Total_Y = shuffle(Total_x,Total_y)"
            ],
            "outputs": [],
            "metadata": {}
        },
        {
            "cell_type": "code",
            "execution_count": 120,
            "source": [
                "# In this part using the previous 50000 to do the training and the last data to do the test check the score\r\n",
                "Train_X = Total_X[:50000]\r\n",
                "Train_Y = Total_Y[:50000]\r\n",
                "Test_X = Total_X[50000:]\r\n",
                "Test_Y = Total_Y[50000:]\r\n",
                "print(Train_X.shape)\r\n",
                "print(Train_Y.shape)\r\n",
                "print(Test_X.shape)\r\n",
                "print(Test_Y.shape)"
            ],
            "outputs": [
                {
                    "output_type": "stream",
                    "name": "stdout",
                    "text": [
                        "(50000, 93)\n",
                        "(50000, 1)\n",
                        "(11878, 93)\n",
                        "(11878, 1)\n"
                    ]
                }
            ],
            "metadata": {}
        },
        {
            "cell_type": "code",
            "execution_count": 121,
            "source": [
                "from sklearn.tree import DecisionTreeClassifier, export_graphviz"
            ],
            "outputs": [],
            "metadata": {}
        },
        {
            "cell_type": "code",
            "execution_count": 122,
            "source": [
                "DT_normal_model = DecisionTreeClassifier(random_state=0)\r\n",
                "DT_normal_model.fit(Train_X, Train_Y.ravel())"
            ],
            "outputs": [
                {
                    "output_type": "execute_result",
                    "data": {
                        "text/plain": [
                            "DecisionTreeClassifier(random_state=0)"
                        ]
                    },
                    "metadata": {},
                    "execution_count": 122
                }
            ],
            "metadata": {}
        },
        {
            "cell_type": "code",
            "execution_count": 123,
            "source": [
                "DT_norm_predict = DT_normal_model.predict(Test_X)\r\n",
                "DT_norm_predict_proba = DT_normal_model.predict_proba(Test_X)\r\n",
                "print(DT_norm_predict)"
            ],
            "outputs": [
                {
                    "output_type": "stream",
                    "name": "stdout",
                    "text": [
                        "['Class_2' 'Class_6' 'Class_5' ... 'Class_5' 'Class_6' 'Class_2']\n"
                    ]
                }
            ],
            "metadata": {}
        },
        {
            "cell_type": "code",
            "execution_count": 124,
            "source": [
                "normal_DT_report = metrics.classification_report(Test_Y,DT_norm_predict)\r\n",
                "log_loss_result_DT = log_loss(Test_Y, DT_norm_predict_proba)"
            ],
            "outputs": [],
            "metadata": {}
        },
        {
            "cell_type": "code",
            "execution_count": 125,
            "source": [
                "print(normal_DT_report)\r\n",
                "print(log_loss_result_DT)"
            ],
            "outputs": [
                {
                    "output_type": "stream",
                    "name": "stdout",
                    "text": [
                        "              precision    recall  f1-score   support\n",
                        "\n",
                        "     Class_1       0.36      0.40      0.38       346\n",
                        "     Class_2       0.71      0.71      0.71      3070\n",
                        "     Class_3       0.47      0.51      0.49      1484\n",
                        "     Class_4       0.43      0.43      0.43       495\n",
                        "     Class_5       0.94      0.96      0.95       586\n",
                        "     Class_6       0.90      0.89      0.89      2730\n",
                        "     Class_7       0.53      0.45      0.48       554\n",
                        "     Class_8       0.82      0.81      0.81      1650\n",
                        "     Class_9       0.77      0.75      0.76       963\n",
                        "\n",
                        "    accuracy                           0.72     11878\n",
                        "   macro avg       0.66      0.65      0.66     11878\n",
                        "weighted avg       0.72      0.72      0.72     11878\n",
                        "\n",
                        "9.627705728535895\n"
                    ]
                }
            ],
            "metadata": {}
        },
        {
            "cell_type": "code",
            "execution_count": 126,
            "source": [
                "from sklearn.ensemble import AdaBoostClassifier"
            ],
            "outputs": [],
            "metadata": {}
        },
        {
            "cell_type": "code",
            "execution_count": 127,
            "source": [
                "DT_Ada_model = AdaBoostClassifier(DecisionTreeClassifier(),n_estimators=200,learning_rate=0.1,random_state=0)\r\n",
                "DT_Ada_model.fit(Train_X, Train_Y.ravel())"
            ],
            "outputs": [
                {
                    "output_type": "execute_result",
                    "data": {
                        "text/plain": [
                            "AdaBoostClassifier(base_estimator=DecisionTreeClassifier(), learning_rate=0.1,\n",
                            "                   n_estimators=200, random_state=0)"
                        ]
                    },
                    "metadata": {},
                    "execution_count": 127
                }
            ],
            "metadata": {}
        },
        {
            "cell_type": "code",
            "execution_count": 128,
            "source": [
                "DT_Ada_predict = DT_Ada_model.predict(Test_X)\r\n",
                "DT_Ada_predict_proba = DT_Ada_model.predict_proba(Test_X)"
            ],
            "outputs": [],
            "metadata": {}
        },
        {
            "cell_type": "code",
            "execution_count": 129,
            "source": [
                "Ada_DT_report = metrics.classification_report(Test_Y,DT_Ada_predict)\r\n",
                "Ada_DT_log_loss = log_loss(Test_Y, DT_Ada_predict_proba)"
            ],
            "outputs": [],
            "metadata": {}
        },
        {
            "cell_type": "code",
            "execution_count": 130,
            "source": [
                "print(Ada_DT_report)\r\n",
                "print(Ada_DT_log_loss)"
            ],
            "outputs": [
                {
                    "output_type": "stream",
                    "name": "stdout",
                    "text": [
                        "              precision    recall  f1-score   support\n",
                        "\n",
                        "     Class_1       0.37      0.40      0.38       346\n",
                        "     Class_2       0.71      0.70      0.71      3070\n",
                        "     Class_3       0.46      0.51      0.48      1484\n",
                        "     Class_4       0.45      0.43      0.44       495\n",
                        "     Class_5       0.95      0.96      0.95       586\n",
                        "     Class_6       0.90      0.89      0.90      2730\n",
                        "     Class_7       0.50      0.45      0.48       554\n",
                        "     Class_8       0.82      0.81      0.81      1650\n",
                        "     Class_9       0.76      0.75      0.76       963\n",
                        "\n",
                        "    accuracy                           0.72     11878\n",
                        "   macro avg       0.66      0.66      0.66     11878\n",
                        "weighted avg       0.72      0.72      0.72     11878\n",
                        "\n",
                        "9.668414843667126\n"
                    ]
                }
            ],
            "metadata": {}
        },
        {
            "cell_type": "code",
            "execution_count": 131,
            "source": [
                "Ada_Model = AdaBoostClassifier(n_estimators=200, random_state=0)\r\n",
                "Ada_Model.fit(Train_X, Train_Y.ravel())"
            ],
            "outputs": [
                {
                    "output_type": "execute_result",
                    "data": {
                        "text/plain": [
                            "AdaBoostClassifier(n_estimators=200, random_state=0)"
                        ]
                    },
                    "metadata": {},
                    "execution_count": 131
                }
            ],
            "metadata": {}
        },
        {
            "cell_type": "code",
            "execution_count": 132,
            "source": [
                "Ada_Model_predict = Ada_Model.predict(Test_X)\r\n",
                "Ada_Model_predict_proba = Ada_Model.predict_proba(Test_X)"
            ],
            "outputs": [],
            "metadata": {}
        },
        {
            "cell_type": "code",
            "execution_count": 133,
            "source": [
                "Ada_Model_report = metrics.classification_report(Test_Y,Ada_Model_predict)\r\n",
                "Ada_Model_loss = log_loss(Test_Y, Ada_Model_predict_proba)"
            ],
            "outputs": [],
            "metadata": {}
        },
        {
            "cell_type": "code",
            "execution_count": 134,
            "source": [
                "print(Ada_Model_report)\r\n",
                "print(Ada_Model_loss)"
            ],
            "outputs": [
                {
                    "output_type": "stream",
                    "name": "stdout",
                    "text": [
                        "              precision    recall  f1-score   support\n",
                        "\n",
                        "     Class_1       0.31      0.33      0.32       346\n",
                        "     Class_2       0.74      0.36      0.48      3070\n",
                        "     Class_3       0.34      0.59      0.43      1484\n",
                        "     Class_4       0.30      0.41      0.35       495\n",
                        "     Class_5       0.73      0.97      0.83       586\n",
                        "     Class_6       0.86      0.90      0.88      2730\n",
                        "     Class_7       0.50      0.36      0.42       554\n",
                        "     Class_8       0.76      0.82      0.79      1650\n",
                        "     Class_9       0.76      0.70      0.73       963\n",
                        "\n",
                        "    accuracy                           0.64     11878\n",
                        "   macro avg       0.59      0.61      0.58     11878\n",
                        "weighted avg       0.68      0.64      0.64     11878\n",
                        "\n",
                        "2.0850846305166644\n"
                    ]
                }
            ],
            "metadata": {}
        },
        {
            "cell_type": "code",
            "execution_count": 135,
            "source": [
                "ground_truth_dict = {\"Class_1\":0,\"Class_2\":0,\"Class_3\":0,\"Class_4\":0,\"Class_5\":0,\"Class_6\":0,\"Class_7\":0,\"Class_8\":0,\"Class_9\":0}\r\n",
                "DT_result_dict = {\"Class_1\":0,\"Class_2\":0,\"Class_3\":0,\"Class_4\":0,\"Class_5\":0,\"Class_6\":0,\"Class_7\":0,\"Class_8\":0,\"Class_9\":0}\r\n",
                "Ada_DT_result_dict = {\"Class_1\":0,\"Class_2\":0,\"Class_3\":0,\"Class_4\":0,\"Class_5\":0,\"Class_6\":0,\"Class_7\":0,\"Class_8\":0,\"Class_9\":0}\r\n",
                "Ada_result_dict = {\"Class_1\":0,\"Class_2\":0,\"Class_3\":0,\"Class_4\":0,\"Class_5\":0,\"Class_6\":0,\"Class_7\":0,\"Class_8\":0,\"Class_9\":0}"
            ],
            "outputs": [],
            "metadata": {}
        },
        {
            "cell_type": "code",
            "execution_count": 136,
            "source": [
                "for item in Test_Y:\r\n",
                "    ground_truth_dict[item[-1]] += 1\r\n",
                "print(f\"ground_truth_dict: {ground_truth_dict}\")\r\n",
                "    \r\n",
                "for item in DT_norm_predict:\r\n",
                "    DT_result_dict[item] += 1\r\n",
                "print(f\"DT_result_dict: {DT_result_dict}\")\r\n",
                "    \r\n",
                "for item in DT_Ada_predict:\r\n",
                "    Ada_DT_result_dict[item] += 1\r\n",
                "print(f\"Ada_DT_result_dict: {Ada_DT_result_dict}\")\r\n",
                "\r\n",
                "for item in Ada_Model_predict:\r\n",
                "    Ada_result_dict[item] += 1\r\n",
                "print(f\"Ada_result_dict: {Ada_result_dict}\")"
            ],
            "outputs": [
                {
                    "output_type": "stream",
                    "name": "stdout",
                    "text": [
                        "ground_truth_dict: {'Class_1': 346, 'Class_2': 3070, 'Class_3': 1484, 'Class_4': 495, 'Class_5': 586, 'Class_6': 2730, 'Class_7': 554, 'Class_8': 1650, 'Class_9': 963}\n",
                        "DT_result_dict: {'Class_1': 384, 'Class_2': 3054, 'Class_3': 1609, 'Class_4': 497, 'Class_5': 595, 'Class_6': 2724, 'Class_7': 469, 'Class_8': 1615, 'Class_9': 931}\n",
                        "Ada_DT_result_dict: {'Class_1': 372, 'Class_2': 3022, 'Class_3': 1656, 'Class_4': 481, 'Class_5': 589, 'Class_6': 2676, 'Class_7': 499, 'Class_8': 1630, 'Class_9': 953}\n",
                        "Ada_result_dict: {'Class_1': 374, 'Class_2': 1505, 'Class_3': 2616, 'Class_4': 678, 'Class_5': 779, 'Class_6': 2853, 'Class_7': 402, 'Class_8': 1780, 'Class_9': 891}\n"
                    ]
                }
            ],
            "metadata": {}
        },
        {
            "cell_type": "code",
            "execution_count": 149,
            "source": [
                "import matplotlib.pyplot as plt\r\n",
                "plt.figure(figsize=(8, 8))\r\n",
                "l1=plt.plot(ground_truth_dict.keys(),ground_truth_dict.values(),color='red',linestyle='--',label='ground truth')\r\n",
                "l2=plt.plot(DT_result_dict.keys(),DT_result_dict.values(),color='green',linestyle='--',label='DT normal')\r\n",
                "l3=plt.plot(Ada_DT_result_dict.keys(),Ada_DT_result_dict.values(),color='black',linestyle='--',label='DT AdaBoostClassifier')\r\n",
                "l4=plt.plot(Ada_result_dict.keys(),Ada_result_dict.values(),color='blue',linestyle='--',label='AdaBoostClassifier')\r\n",
                "plt.title('The Prediction VS Ground Truth')\r\n",
                "plt.xlabel('Classes')\r\n",
                "plt.ylabel('Number of Samples')\r\n",
                "plt.legend()\r\n",
                "plt.show()"
            ],
            "outputs": [
                {
                    "output_type": "display_data",
                    "data": {
                        "text/plain": [
                            "<Figure size 576x576 with 1 Axes>"
                        ],
                        "image/png": "[encoded data removed]"
                    },
                    "metadata": {
                        "needs_background": "light"
                    }
                }
            ],
            "metadata": {}
        },
        {
            "cell_type": "code",
            "execution_count": 138,
            "source": [
                "from sklearn.metrics import confusion_matrix"
            ],
            "outputs": [],
            "metadata": {}
        },
        {
            "cell_type": "code",
            "execution_count": 139,
            "source": [
                "DT_Confusion = confusion_matrix(DT_norm_predict, Test_Y)\r\n",
                "plt.figure(figsize=(8, 8))\r\n",
                "plt.title('Decision Tree')\r\n",
                "plt.legend()\r\n",
                "plt.imshow(DT_Confusion, cmap=plt.cm.Blues)"
            ],
            "outputs": [
                {
                    "output_type": "stream",
                    "name": "stderr",
                    "text": [
                        "No handles with labels found to put in legend.\n"
                    ]
                },
                {
                    "output_type": "execute_result",
                    "data": {
                        "text/plain": [
                            "<matplotlib.image.AxesImage at 0x157bc0edee0>"
                        ]
                    },
                    "metadata": {},
                    "execution_count": 139
                },
                {
                    "output_type": "display_data",
                    "data": {
                        "text/plain": [
                            "<Figure size 576x576 with 1 Axes>"
                        ],
                        "image/png": "[encoded data removed]"
                    },
                    "metadata": {
                        "needs_background": "light"
                    }
                }
            ],
            "metadata": {}
        },
        {
            "cell_type": "code",
            "execution_count": 140,
            "source": [
                "Ada_DT_Confusion = confusion_matrix(DT_Ada_predict, Test_Y)\r\n",
                "plt.figure(figsize=(8, 8))\r\n",
                "plt.title('Adaboosted Decision Tree')\r\n",
                "plt.legend()\r\n",
                "plt.imshow(Ada_DT_Confusion, cmap=plt.cm.Blues)"
            ],
            "outputs": [
                {
                    "output_type": "stream",
                    "name": "stderr",
                    "text": [
                        "No handles with labels found to put in legend.\n"
                    ]
                },
                {
                    "output_type": "execute_result",
                    "data": {
                        "text/plain": [
                            "<matplotlib.image.AxesImage at 0x15702c5dd90>"
                        ]
                    },
                    "metadata": {},
                    "execution_count": 140
                },
                {
                    "output_type": "display_data",
                    "data": {
                        "text/plain": [
                            "<Figure size 576x576 with 1 Axes>"
                        ],
                        "image/png": "[encoded data removed]"
                    },
                    "metadata": {
                        "needs_background": "light"
                    }
                }
            ],
            "metadata": {}
        },
        {
            "cell_type": "code",
            "execution_count": 141,
            "source": [
                "Ada_Confusion = confusion_matrix(Ada_Model_predict, Test_Y)\r\n",
                "plt.figure(figsize=(8, 8))\r\n",
                "plt.title('Adaboosted Classifier')\r\n",
                "plt.legend()\r\n",
                "plt.imshow(Ada_Confusion, cmap=plt.cm.Blues)"
            ],
            "outputs": [
                {
                    "output_type": "stream",
                    "name": "stderr",
                    "text": [
                        "No handles with labels found to put in legend.\n"
                    ]
                },
                {
                    "output_type": "execute_result",
                    "data": {
                        "text/plain": [
                            "<matplotlib.image.AxesImage at 0x15702cbcfd0>"
                        ]
                    },
                    "metadata": {},
                    "execution_count": 141
                },
                {
                    "output_type": "display_data",
                    "data": {
                        "text/plain": [
                            "<Figure size 576x576 with 1 Axes>"
                        ],
                        "image/png": "[encoded data removed]"
                    },
                    "metadata": {
                        "needs_background": "light"
                    }
                }
            ],
            "metadata": {}
        }
    ],
    "metadata": {
        "orig_nbformat": 4,
        "language_info": {
            "name": "python",
            "version": "3.8.8",
            "mimetype": "text/x-python",
            "codemirror_mode": {
                "name": "ipython",
                "version": 3
            },
            "pygments_lexer": "ipython3",
            "nbconvert_exporter": "python",
            "file_extension": ".py"
        },
        "kernelspec": {
            "name": "python3",
            "display_name": "Python 3.8.8 64-bit ('tf24': conda)"
        },
        "interpreter": {
            "hash": "fc41597814ff85e0caced484d48bad3e0926c3d440aa194648a264b83f287c05"
        }
    },
    "nbformat": 4,
    "nbformat_minor": 2
}