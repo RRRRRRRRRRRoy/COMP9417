{
    "cells": [
        {
            "cell_type": "code",
            "execution_count": 1,
            "source": [
                "import numpy as np\r\n",
                "import pandas as pd\r\n",
                "from sklearn.utils import shuffle\r\n",
                "from sklearn.cluster import KMeans\r\n",
                "from sklearn.metrics import log_loss\r\n",
                "from sklearn import metrics\r\n",
                "from sklearn.metrics import log_loss"
            ],
            "outputs": [],
            "metadata": {}
        },
        {
            "cell_type": "code",
            "execution_count": 2,
            "source": [
                "raw_train_data = pd.read_csv(\"D:\\\\train.csv\")\r\n",
                "raw_test_data = pd.read_csv(\"D:\\\\test.csv\")"
            ],
            "outputs": [],
            "metadata": {}
        },
        {
            "cell_type": "code",
            "execution_count": 3,
            "source": [
                "print(raw_train_data.shape)\r\n",
                "print(raw_test_data.shape)"
            ],
            "outputs": [
                {
                    "output_type": "stream",
                    "name": "stdout",
                    "text": [
                        "(61878, 95)\n",
                        "(144368, 94)\n"
                    ]
                }
            ],
            "metadata": {}
        },
        {
            "cell_type": "code",
            "execution_count": 4,
            "source": [
                "Train_data = raw_train_data.iloc[:, 1:95]\r\n",
                "labels = set(Train_data.iloc[:,93:94].target)\r\n",
                "Valid_x = np.array(raw_test_data.iloc[:, 1:94])\r\n",
                "Total_x = np.array(Train_data.iloc[:,0:93])\r\n",
                "Total_y = np.array(Train_data.iloc[:,93:94])"
            ],
            "outputs": [],
            "metadata": {}
        },
        {
            "cell_type": "code",
            "execution_count": 5,
            "source": [
                "print(f\"The current has the following label {labels}\")\r\n",
                "print(f\"The shape the Total_X {Total_x.shape}\")\r\n",
                "print(f\"The shape the Total_Y {Total_y.shape}\")\r\n",
                "print(f\"The shape the Valid_X {Valid_x.shape}\")\r\n",
                "print(f\"Check Nan in Total_X {set(np.isnan(Total_x).any(axis=1))}\")\r\n",
                "# print(f\"Check Nan in Train_Y {np.isnan(Train_Y).any(axis=1)}\")\r\n",
                "print(f\"Check Nan in Valid_X {set(np.isnan(Valid_x).any(axis=1))}\")"
            ],
            "outputs": [
                {
                    "output_type": "stream",
                    "name": "stdout",
                    "text": [
                        "The current has the following label {'Class_3', 'Class_9', 'Class_1', 'Class_2', 'Class_7', 'Class_4', 'Class_5', 'Class_8', 'Class_6'}\n",
                        "The shape the Total_X (61878, 93)\n",
                        "The shape the Total_Y (61878, 1)\n",
                        "The shape the Valid_X (144368, 93)\n",
                        "Check Nan in Total_X {False}\n",
                        "Check Nan in Valid_X {False}\n"
                    ]
                }
            ],
            "metadata": {}
        },
        {
            "cell_type": "code",
            "execution_count": 6,
            "source": [
                "np.random.seed(10)\r\n",
                "Total_X,Total_Y = shuffle(Total_x,Total_y)"
            ],
            "outputs": [],
            "metadata": {}
        },
        {
            "cell_type": "code",
            "execution_count": 7,
            "source": [
                "# In this part using the previous 50000 to do the training and the last data to do the test check the score\r\n",
                "Train_X = Total_X[:50000]\r\n",
                "Train_Y = Total_Y[:50000]\r\n",
                "Test_X = Total_X[50000:]\r\n",
                "Test_Y = Total_Y[50000:]\r\n",
                "print(Train_X.shape)\r\n",
                "print(Train_Y.shape)\r\n",
                "print(Test_X.shape)\r\n",
                "print(Test_Y.shape)"
            ],
            "outputs": [
                {
                    "output_type": "stream",
                    "name": "stdout",
                    "text": [
                        "(50000, 93)\n",
                        "(50000, 1)\n",
                        "(11878, 93)\n",
                        "(11878, 1)\n"
                    ]
                }
            ],
            "metadata": {}
        },
        {
            "cell_type": "code",
            "execution_count": 8,
            "source": [
                "from sklearn.tree import DecisionTreeClassifier, export_graphviz"
            ],
            "outputs": [],
            "metadata": {}
        },
        {
            "cell_type": "code",
            "execution_count": 9,
            "source": [
                "DT_normal_model = DecisionTreeClassifier(random_state=0)\r\n",
                "DT_normal_model.fit(Train_X, Train_Y.ravel())"
            ],
            "outputs": [
                {
                    "output_type": "execute_result",
                    "data": {
                        "text/plain": [
                            "DecisionTreeClassifier(random_state=0)"
                        ]
                    },
                    "metadata": {},
                    "execution_count": 9
                }
            ],
            "metadata": {}
        },
        {
            "cell_type": "code",
            "execution_count": 10,
            "source": [
                "DT_norm_predict = DT_normal_model.predict(Test_X)\r\n",
                "DT_norm_predict_proba = DT_normal_model.predict_proba(Test_X)\r\n",
                "print(DT_norm_predict)"
            ],
            "outputs": [
                {
                    "output_type": "stream",
                    "name": "stdout",
                    "text": [
                        "['Class_2' 'Class_6' 'Class_5' ... 'Class_5' 'Class_6' 'Class_2']\n"
                    ]
                }
            ],
            "metadata": {}
        },
        {
            "cell_type": "code",
            "execution_count": 11,
            "source": [
                "normal_BNB_report = metrics.classification_report(Test_Y,DT_norm_predict)\r\n",
                "log_loss_result_BNB = log_loss(Test_Y, DT_norm_predict_proba)"
            ],
            "outputs": [],
            "metadata": {}
        },
        {
            "cell_type": "code",
            "execution_count": 12,
            "source": [
                "print(normal_BNB_report)\r\n",
                "print(log_loss_result_BNB)"
            ],
            "outputs": [
                {
                    "output_type": "stream",
                    "name": "stdout",
                    "text": [
                        "              precision    recall  f1-score   support\n",
                        "\n",
                        "     Class_1       0.36      0.40      0.38       346\n",
                        "     Class_2       0.71      0.71      0.71      3070\n",
                        "     Class_3       0.47      0.51      0.49      1484\n",
                        "     Class_4       0.43      0.43      0.43       495\n",
                        "     Class_5       0.94      0.96      0.95       586\n",
                        "     Class_6       0.90      0.89      0.89      2730\n",
                        "     Class_7       0.53      0.45      0.48       554\n",
                        "     Class_8       0.82      0.81      0.81      1650\n",
                        "     Class_9       0.77      0.75      0.76       963\n",
                        "\n",
                        "    accuracy                           0.72     11878\n",
                        "   macro avg       0.66      0.65      0.66     11878\n",
                        "weighted avg       0.72      0.72      0.72     11878\n",
                        "\n",
                        "9.627705728535895\n"
                    ]
                }
            ],
            "metadata": {}
        },
        {
            "cell_type": "code",
            "execution_count": 13,
            "source": [
                "from sklearn.ensemble import AdaBoostClassifier"
            ],
            "outputs": [],
            "metadata": {}
        },
        {
            "cell_type": "code",
            "execution_count": 14,
            "source": [
                "DT_Ada_model = AdaBoostClassifier(DecisionTreeClassifier(),n_estimators=200,learning_rate=0.1,random_state=0)\r\n",
                "DT_Ada_model.fit(Train_X, Train_Y.ravel())"
            ],
            "outputs": [
                {
                    "output_type": "execute_result",
                    "data": {
                        "text/plain": [
                            "AdaBoostClassifier(base_estimator=DecisionTreeClassifier(), learning_rate=0.1,\n",
                            "                   n_estimators=200, random_state=0)"
                        ]
                    },
                    "metadata": {},
                    "execution_count": 14
                }
            ],
            "metadata": {}
        },
        {
            "cell_type": "code",
            "execution_count": 15,
            "source": [
                "DT_Ada_predict = DT_Ada_model.predict(Test_X)\r\n",
                "DT_Ada_predict_proba = DT_Ada_model.predict_proba(Test_X)"
            ],
            "outputs": [],
            "metadata": {}
        },
        {
            "cell_type": "code",
            "execution_count": 16,
            "source": [
                "Ada_DT_report = metrics.classification_report(Test_Y,DT_Ada_predict)\r\n",
                "Ada_DT_log_loss = log_loss(Test_Y, DT_Ada_predict_proba)"
            ],
            "outputs": [],
            "metadata": {}
        },
        {
            "cell_type": "code",
            "execution_count": 17,
            "source": [
                "print(Ada_DT_report)\r\n",
                "print(Ada_DT_log_loss)"
            ],
            "outputs": [
                {
                    "output_type": "stream",
                    "name": "stdout",
                    "text": [
                        "              precision    recall  f1-score   support\n",
                        "\n",
                        "     Class_1       0.37      0.40      0.38       346\n",
                        "     Class_2       0.71      0.70      0.71      3070\n",
                        "     Class_3       0.46      0.51      0.48      1484\n",
                        "     Class_4       0.45      0.43      0.44       495\n",
                        "     Class_5       0.95      0.96      0.95       586\n",
                        "     Class_6       0.90      0.89      0.90      2730\n",
                        "     Class_7       0.50      0.45      0.48       554\n",
                        "     Class_8       0.82      0.81      0.81      1650\n",
                        "     Class_9       0.76      0.75      0.76       963\n",
                        "\n",
                        "    accuracy                           0.72     11878\n",
                        "   macro avg       0.66      0.66      0.66     11878\n",
                        "weighted avg       0.72      0.72      0.72     11878\n",
                        "\n",
                        "9.668414843667126\n"
                    ]
                }
            ],
            "metadata": {}
        },
        {
            "cell_type": "code",
            "execution_count": 31,
            "source": [
                "Ada_Model = AdaBoostClassifier(n_estimators=200, random_state=0)\r\n",
                "Ada_Model.fit(Train_X, Train_Y.ravel())"
            ],
            "outputs": [
                {
                    "output_type": "execute_result",
                    "data": {
                        "text/plain": [
                            "AdaBoostClassifier(n_estimators=200, random_state=0)"
                        ]
                    },
                    "metadata": {},
                    "execution_count": 31
                }
            ],
            "metadata": {}
        },
        {
            "cell_type": "code",
            "execution_count": 32,
            "source": [
                "Ada_Model_predict = DT_Ada_model.predict(Test_X)\r\n",
                "Ada_Model_predict_proba = DT_Ada_model.predict_proba(Test_X)"
            ],
            "outputs": [],
            "metadata": {}
        },
        {
            "cell_type": "code",
            "execution_count": 33,
            "source": [
                "Ada_Model_report = metrics.classification_report(Test_Y,Ada_Model_predict)\r\n",
                "Ada_Model_loss = log_loss(Test_Y, Ada_Model_predict_proba)"
            ],
            "outputs": [],
            "metadata": {}
        },
        {
            "cell_type": "code",
            "execution_count": 34,
            "source": [
                "print(Ada_Model_report)\r\n",
                "print(Ada_Model_loss)"
            ],
            "outputs": [
                {
                    "output_type": "stream",
                    "name": "stdout",
                    "text": [
                        "              precision    recall  f1-score   support\n",
                        "\n",
                        "     Class_1       0.37      0.40      0.38       346\n",
                        "     Class_2       0.71      0.70      0.71      3070\n",
                        "     Class_3       0.46      0.51      0.48      1484\n",
                        "     Class_4       0.45      0.43      0.44       495\n",
                        "     Class_5       0.95      0.96      0.95       586\n",
                        "     Class_6       0.90      0.89      0.90      2730\n",
                        "     Class_7       0.50      0.45      0.48       554\n",
                        "     Class_8       0.82      0.81      0.81      1650\n",
                        "     Class_9       0.76      0.75      0.76       963\n",
                        "\n",
                        "    accuracy                           0.72     11878\n",
                        "   macro avg       0.66      0.66      0.66     11878\n",
                        "weighted avg       0.72      0.72      0.72     11878\n",
                        "\n",
                        "9.668414843667126\n"
                    ]
                }
            ],
            "metadata": {}
        },
        {
            "cell_type": "code",
            "execution_count": 36,
            "source": [
                "ground_truth_dict = {\"Class_1\":0,\"Class_2\":0,\"Class_3\":0,\"Class_4\":0,\"Class_5\":0,\"Class_6\":0,\"Class_7\":0,\"Class_8\":0,\"Class_9\":0}\r\n",
                "DT_result_dict = {\"Class_1\":0,\"Class_2\":0,\"Class_3\":0,\"Class_4\":0,\"Class_5\":0,\"Class_6\":0,\"Class_7\":0,\"Class_8\":0,\"Class_9\":0}\r\n",
                "Ada_DT_result_dict = {\"Class_1\":0,\"Class_2\":0,\"Class_3\":0,\"Class_4\":0,\"Class_5\":0,\"Class_6\":0,\"Class_7\":0,\"Class_8\":0,\"Class_9\":0}\r\n",
                "Ada_result_dict = {\"Class_1\":0,\"Class_2\":0,\"Class_3\":0,\"Class_4\":0,\"Class_5\":0,\"Class_6\":0,\"Class_7\":0,\"Class_8\":0,\"Class_9\":0}"
            ],
            "outputs": [],
            "metadata": {}
        },
        {
            "cell_type": "code",
            "execution_count": 43,
            "source": [
                "for item in Test_Y:\r\n",
                "    ground_truth_dict[item[-1]] += 1\r\n",
                "print(f\"ground_truth_dict: {ground_truth_dict}\")\r\n",
                "    \r\n",
                "for item in DT_norm_predict:\r\n",
                "    DT_result_dict[item] += 1\r\n",
                "print(f\"DT_result_dict: {DT_result_dict}\")\r\n",
                "    \r\n",
                "for item in DT_norm_predict:\r\n",
                "    Ada_DT_result_dict[item] += 1\r\n",
                "print(f\"Ada_DT_result_dict: {Ada_DT_result_dict}\")\r\n",
                "\r\n",
                "for item in Ada_Model_predict:\r\n",
                "    Ada_result_dict[item] += 1\r\n",
                "print(f\"Ada_result_dict: {Ada_result_dict}\")"
            ],
            "outputs": [
                {
                    "output_type": "stream",
                    "name": "stdout",
                    "text": [
                        "ground_truth_dict: {'Class_1': 692, 'Class_2': 6140, 'Class_3': 2968, 'Class_4': 990, 'Class_5': 1172, 'Class_6': 5460, 'Class_7': 1108, 'Class_8': 3300, 'Class_9': 1926}\n",
                        "DT_result_dict: {'Class_1': 768, 'Class_2': 6108, 'Class_3': 3218, 'Class_4': 994, 'Class_5': 1190, 'Class_6': 5448, 'Class_7': 938, 'Class_8': 3230, 'Class_9': 1862}\n",
                        "Ada_DT_result_dict: {'Class_1': 768, 'Class_2': 6108, 'Class_3': 3218, 'Class_4': 994, 'Class_5': 1190, 'Class_6': 5448, 'Class_7': 938, 'Class_8': 3230, 'Class_9': 1862}\n",
                        "Ada_result_dict: {'Class_1': 744, 'Class_2': 6044, 'Class_3': 3312, 'Class_4': 962, 'Class_5': 1178, 'Class_6': 5352, 'Class_7': 998, 'Class_8': 3260, 'Class_9': 1906}\n"
                    ]
                }
            ],
            "metadata": {}
        },
        {
            "cell_type": "code",
            "execution_count": 42,
            "source": [
                "import matplotlib.pyplot as plt\r\n",
                "plt.figure(figsize=(8, 8))\r\n",
                "l1=plt.plot(ground_truth_dict.keys(),ground_truth_dict.values(),'r--',label='ground truth')\r\n",
                "l2=plt.plot(DT_result_dict.keys(),DT_result_dict.values(),'g--',label='DT normal')\r\n",
                "l2=plt.plot(Ada_DT_result_dict.keys(),Ada_DT_result_dict.values(),'y--',label='DT AdaBoostClassifier')\r\n",
                "l2=plt.plot(Ada_result_dict.keys(),Ada_result_dict.values(),'b--',label='AdaBoostClassifier')\r\n",
                "plt.title('The Prediction VS Ground Truth')\r\n",
                "plt.xlabel('Classes')\r\n",
                "plt.ylabel('Number of Samples')\r\n",
                "plt.legend()\r\n",
                "plt.show()"
            ],
            "outputs": [
                {
                    "output_type": "display_data",
                    "data": {
                        "text/plain": [
                            "<Figure size 576x576 with 1 Axes>"
                        ],
                        "image/png": "[encoded data removed]"
                    },
                    "metadata": {
                        "needs_background": "light"
                    }
                }
            ],
            "metadata": {}
        }
    ],
    "metadata": {
        "orig_nbformat": 4,
        "language_info": {
            "name": "python",
            "version": "3.8.8",
            "mimetype": "text/x-python",
            "codemirror_mode": {
                "name": "ipython",
                "version": 3
            },
            "pygments_lexer": "ipython3",
            "nbconvert_exporter": "python",
            "file_extension": ".py"
        },
        "kernelspec": {
            "name": "python3",
            "display_name": "Python 3.8.8 64-bit ('tf24': conda)"
        },
        "interpreter": {
            "hash": "fc41597814ff85e0caced484d48bad3e0926c3d440aa194648a264b83f287c05"
        }
    },
    "nbformat": 4,
    "nbformat_minor": 2
}