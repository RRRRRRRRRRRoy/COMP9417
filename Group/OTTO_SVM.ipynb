{
    "cells": [
        {
            "cell_type": "code",
            "execution_count": 3,
            "source": [
                "# This is for the COMP9417 Group Project\r\n",
                "# The problem is the OTTO in the Kaggle\r\n",
                "# Source: https://www.kaggle.com/c/otto-group-product-classification-challenge/overview\r\n",
                "# RandomForest / conception / svm / knn / Naive Bayesian"
            ],
            "outputs": [],
            "metadata": {}
        },
        {
            "cell_type": "code",
            "execution_count": 4,
            "source": [
                "import numpy as np\r\n",
                "import pandas as pd\r\n",
                "from sklearn.utils import shuffle\r\n",
                "\r\n",
                "from sklearn import metrics\r\n",
                "from sklearn.svm import LinearSVC\r\n",
                "from sklearn.multiclass import OneVsRestClassifier"
            ],
            "outputs": [],
            "metadata": {}
        },
        {
            "cell_type": "code",
            "execution_count": 5,
            "source": [
                "raw_train_data = pd.read_csv(\"D:\\\\train.csv\")\r\n",
                "raw_test_data = pd.read_csv(\"D:\\\\test.csv\")"
            ],
            "outputs": [],
            "metadata": {}
        },
        {
            "cell_type": "code",
            "execution_count": 6,
            "source": [
                "print(raw_train_data.shape)\r\n",
                "print(raw_test_data.shape)"
            ],
            "outputs": [
                {
                    "output_type": "stream",
                    "name": "stdout",
                    "text": [
                        "(61878, 95)\n",
                        "(144368, 94)\n"
                    ]
                }
            ],
            "metadata": {}
        },
        {
            "cell_type": "code",
            "execution_count": 7,
            "source": [
                "Train_data = raw_train_data.iloc[:, 1:95]\r\n",
                "labels = set(Train_data.iloc[:,93:94].target)\r\n",
                "Valid_x = np.array(raw_test_data.iloc[:, 1:94])\r\n",
                "Total_x = np.array(Train_data.iloc[:,0:93])\r\n",
                "Total_y = np.array(Train_data.iloc[:,93:94])"
            ],
            "outputs": [],
            "metadata": {}
        },
        {
            "cell_type": "code",
            "execution_count": 8,
            "source": [
                "print(f\"The current has the following label {labels}\")\r\n",
                "print(f\"The shape the Total_X {Total_x.shape}\")\r\n",
                "print(f\"The shape the Total_Y {Total_y.shape}\")\r\n",
                "print(f\"The shape the Valid_X {Valid_x.shape}\")\r\n",
                "print(f\"Check Nan in Total_X {set(np.isnan(Total_x).any(axis=1))}\")\r\n",
                "# print(f\"Check Nan in Train_Y {np.isnan(Train_Y).any(axis=1)}\")\r\n",
                "print(f\"Check Nan in Valid_X {set(np.isnan(Valid_x).any(axis=1))}\")"
            ],
            "outputs": [
                {
                    "output_type": "stream",
                    "name": "stdout",
                    "text": [
                        "The current has the following label {'Class_2', 'Class_6', 'Class_1', 'Class_8', 'Class_4', 'Class_7', 'Class_3', 'Class_9', 'Class_5'}\n",
                        "The shape the Total_X (61878, 93)\n",
                        "The shape the Total_Y (61878, 1)\n",
                        "The shape the Valid_X (144368, 93)\n",
                        "Check Nan in Total_X {False}\n",
                        "Check Nan in Valid_X {False}\n"
                    ]
                }
            ],
            "metadata": {}
        },
        {
            "cell_type": "code",
            "execution_count": 9,
            "source": [
                "Total_X,Total_Y = shuffle(Total_x,Total_y)"
            ],
            "outputs": [],
            "metadata": {}
        },
        {
            "cell_type": "code",
            "execution_count": 10,
            "source": [
                "# In this part using the previous 50000 to do the training and the last data to do the test check the score\r\n",
                "Train_X = Total_X[:50000]\r\n",
                "Train_Y = Total_Y[:50000]\r\n",
                "Test_X = Total_X[50000:]\r\n",
                "Test_Y = Total_Y[50000:]\r\n",
                "print(Train_X.shape)\r\n",
                "print(Train_Y.shape)\r\n",
                "print(Test_X.shape)\r\n",
                "print(Test_Y.shape)"
            ],
            "outputs": [
                {
                    "output_type": "stream",
                    "name": "stdout",
                    "text": [
                        "(50000, 93)\n",
                        "(50000, 1)\n",
                        "(11878, 93)\n",
                        "(11878, 1)\n"
                    ]
                }
            ],
            "metadata": {}
        },
        {
            "cell_type": "code",
            "execution_count": 11,
            "source": [
                "C_dict = dict()"
            ],
            "outputs": [],
            "metadata": {}
        },
        {
            "cell_type": "code",
            "execution_count": 20,
            "source": [
                "# for C in [10**x for x in range(-4,2)]:\r\n",
                "#     svc = OneVsRestClassifier(LinearSVC(C=C , random_state=0))\r\n",
                "#     svc.fit(Train_X, Train_Y)\r\n",
                "#     C_dict.update({C:svc.score(Train_X, Train_Y)})"
            ],
            "outputs": [],
            "metadata": {}
        },
        {
            "cell_type": "code",
            "execution_count": 17,
            "source": [
                "# print(C_dict)"
            ],
            "outputs": [
                {
                    "output_type": "stream",
                    "name": "stdout",
                    "text": [
                        "{0.0001: 0.7471, 0.001: 0.75136, 0.01: 0.75246, 0.1: 0.75326, 1: 0.74758, 10: 0.69344}\n"
                    ]
                }
            ],
            "metadata": {}
        },
        {
            "cell_type": "code",
            "execution_count": 18,
            "source": [
                "# Best C: 0.1\r\n",
                "# Best Score: 0.75044\r\n",
                "# 0.1: 0.75326\r\n",
                "best_C = 0.1"
            ],
            "outputs": [],
            "metadata": {}
        },
        {
            "cell_type": "code",
            "execution_count": 19,
            "source": [
                "svc = OneVsRestClassifier(LinearSVC(C=best_C, random_state=0))\r\n",
                "svc.fit(Train_X, Train_Y)\r\n",
                "svm_pred = svc.predict(Test_X)"
            ],
            "outputs": [
                {
                    "output_type": "stream",
                    "name": "stderr",
                    "text": [
                        "E:\\Anaconda\\envs\\tf24\\lib\\site-packages\\sklearn\\svm\\_base.py:985: ConvergenceWarning: Liblinear failed to converge, increase the number of iterations.\n",
                        "  warnings.warn(\"Liblinear failed to converge, increase \"\n",
                        "E:\\Anaconda\\envs\\tf24\\lib\\site-packages\\sklearn\\svm\\_base.py:985: ConvergenceWarning: Liblinear failed to converge, increase the number of iterations.\n",
                        "  warnings.warn(\"Liblinear failed to converge, increase \"\n",
                        "E:\\Anaconda\\envs\\tf24\\lib\\site-packages\\sklearn\\svm\\_base.py:985: ConvergenceWarning: Liblinear failed to converge, increase the number of iterations.\n",
                        "  warnings.warn(\"Liblinear failed to converge, increase \"\n",
                        "E:\\Anaconda\\envs\\tf24\\lib\\site-packages\\sklearn\\svm\\_base.py:985: ConvergenceWarning: Liblinear failed to converge, increase the number of iterations.\n",
                        "  warnings.warn(\"Liblinear failed to converge, increase \"\n",
                        "E:\\Anaconda\\envs\\tf24\\lib\\site-packages\\sklearn\\svm\\_base.py:985: ConvergenceWarning: Liblinear failed to converge, increase the number of iterations.\n",
                        "  warnings.warn(\"Liblinear failed to converge, increase \"\n",
                        "E:\\Anaconda\\envs\\tf24\\lib\\site-packages\\sklearn\\svm\\_base.py:985: ConvergenceWarning: Liblinear failed to converge, increase the number of iterations.\n",
                        "  warnings.warn(\"Liblinear failed to converge, increase \"\n",
                        "E:\\Anaconda\\envs\\tf24\\lib\\site-packages\\sklearn\\svm\\_base.py:985: ConvergenceWarning: Liblinear failed to converge, increase the number of iterations.\n",
                        "  warnings.warn(\"Liblinear failed to converge, increase \"\n",
                        "E:\\Anaconda\\envs\\tf24\\lib\\site-packages\\sklearn\\svm\\_base.py:985: ConvergenceWarning: Liblinear failed to converge, increase the number of iterations.\n",
                        "  warnings.warn(\"Liblinear failed to converge, increase \"\n",
                        "E:\\Anaconda\\envs\\tf24\\lib\\site-packages\\sklearn\\svm\\_base.py:985: ConvergenceWarning: Liblinear failed to converge, increase the number of iterations.\n",
                        "  warnings.warn(\"Liblinear failed to converge, increase \"\n"
                    ]
                }
            ],
            "metadata": {}
        },
        {
            "cell_type": "code",
            "execution_count": 21,
            "source": [
                "normal_svm_predict = metrics.classification_report(Test_Y,svm_pred)\r\n",
                "print(normal_svm_predict)"
            ],
            "outputs": [
                {
                    "output_type": "stream",
                    "name": "stdout",
                    "text": [
                        "              precision    recall  f1-score   support\n",
                        "\n",
                        "     Class_1       0.75      0.21      0.33       389\n",
                        "     Class_2       0.60      0.89      0.72      3137\n",
                        "     Class_3       0.49      0.23      0.31      1583\n",
                        "     Class_4       0.82      0.11      0.19       512\n",
                        "     Class_5       0.96      0.95      0.96       500\n",
                        "     Class_6       0.91      0.93      0.92      2655\n",
                        "     Class_7       0.72      0.53      0.61       534\n",
                        "     Class_8       0.84      0.90      0.87      1600\n",
                        "     Class_9       0.83      0.84      0.83       968\n",
                        "\n",
                        "    accuracy                           0.74     11878\n",
                        "   macro avg       0.77      0.62      0.64     11878\n",
                        "weighted avg       0.74      0.74      0.71     11878\n",
                        "\n"
                    ]
                }
            ],
            "metadata": {}
        }
    ],
    "metadata": {
        "orig_nbformat": 4,
        "language_info": {
            "name": "python",
            "version": "3.8.8",
            "mimetype": "text/x-python",
            "codemirror_mode": {
                "name": "ipython",
                "version": 3
            },
            "pygments_lexer": "ipython3",
            "nbconvert_exporter": "python",
            "file_extension": ".py"
        },
        "kernelspec": {
            "name": "python3",
            "display_name": "Python 3.8.8 64-bit ('tf24': conda)"
        },
        "interpreter": {
            "hash": "fc41597814ff85e0caced484d48bad3e0926c3d440aa194648a264b83f287c05"
        }
    },
    "nbformat": 4,
    "nbformat_minor": 2
}