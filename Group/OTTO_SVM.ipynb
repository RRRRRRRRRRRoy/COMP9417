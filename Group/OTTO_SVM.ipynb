{
    "cells": [
        {
            "cell_type": "code",
            "execution_count": 36,
            "source": [
                "# This is for the COMP9417 Group Project\r\n",
                "# The problem is the OTTO in the Kaggle\r\n",
                "# Source: https://www.kaggle.com/c/otto-group-product-classification-challenge/overview\r\n",
                "# RandomForest / conception / svm / knn / Naive Bayesian"
            ],
            "outputs": [],
            "metadata": {}
        },
        {
            "cell_type": "code",
            "execution_count": 37,
            "source": [
                "import numpy as np\r\n",
                "import pandas as pd\r\n",
                "from sklearn.utils import shuffle\r\n",
                "from sklearn.metrics import log_loss\r\n",
                "from sklearn import metrics\r\n",
                "from sklearn.svm import SVC\r\n",
                "from sklearn.ensemble import AdaBoostClassifier"
            ],
            "outputs": [],
            "metadata": {}
        },
        {
            "cell_type": "code",
            "execution_count": 38,
            "source": [
                "raw_train_data = pd.read_csv(\"D:\\\\train.csv\")\r\n",
                "raw_test_data = pd.read_csv(\"D:\\\\test.csv\")"
            ],
            "outputs": [],
            "metadata": {}
        },
        {
            "cell_type": "code",
            "execution_count": 39,
            "source": [
                "print(raw_train_data.shape)\r\n",
                "print(raw_test_data.shape)"
            ],
            "outputs": [
                {
                    "output_type": "stream",
                    "name": "stdout",
                    "text": [
                        "(61878, 95)\n",
                        "(144368, 94)\n"
                    ]
                }
            ],
            "metadata": {}
        },
        {
            "cell_type": "code",
            "execution_count": 40,
            "source": [
                "Train_data = raw_train_data.iloc[:, 1:95]\r\n",
                "labels = set(Train_data.iloc[:,93:94].target)\r\n",
                "Valid_x = np.array(raw_test_data.iloc[:, 1:94])\r\n",
                "Total_x = np.array(Train_data.iloc[:,0:93])\r\n",
                "Total_y = np.array(Train_data.iloc[:,93:94])"
            ],
            "outputs": [],
            "metadata": {}
        },
        {
            "cell_type": "code",
            "execution_count": 41,
            "source": [
                "print(f\"The current has the following label {labels}\")\r\n",
                "print(f\"The shape the Total_X {Total_x.shape}\")\r\n",
                "print(f\"The shape the Total_Y {Total_y.shape}\")\r\n",
                "print(f\"The shape the Valid_X {Valid_x.shape}\")\r\n",
                "print(f\"Check Nan in Total_X {set(np.isnan(Total_x).any(axis=1))}\")\r\n",
                "# print(f\"Check Nan in Train_Y {np.isnan(Train_Y).any(axis=1)}\")\r\n",
                "print(f\"Check Nan in Valid_X {set(np.isnan(Valid_x).any(axis=1))}\")"
            ],
            "outputs": [
                {
                    "output_type": "stream",
                    "name": "stdout",
                    "text": [
                        "The current has the following label {'Class_6', 'Class_1', 'Class_7', 'Class_3', 'Class_9', 'Class_8', 'Class_2', 'Class_5', 'Class_4'}\n",
                        "The shape the Total_X (61878, 93)\n",
                        "The shape the Total_Y (61878, 1)\n",
                        "The shape the Valid_X (144368, 93)\n",
                        "Check Nan in Total_X {False}\n",
                        "Check Nan in Valid_X {False}\n"
                    ]
                }
            ],
            "metadata": {}
        },
        {
            "cell_type": "code",
            "execution_count": 42,
            "source": [
                "np.random.seed(10)\r\n",
                "Total_X,Total_Y = shuffle(Total_x,Total_y)"
            ],
            "outputs": [],
            "metadata": {}
        },
        {
            "cell_type": "code",
            "execution_count": 43,
            "source": [
                "# In this part using the previous 50000 to do the training and the last data to do the test check the score\r\n",
                "Train_X = Total_X[:50000]\r\n",
                "Train_Y = Total_Y[:50000]\r\n",
                "Test_X = Total_X[50000:]\r\n",
                "Test_Y = Total_Y[50000:]\r\n",
                "print(Train_X.shape)\r\n",
                "print(Train_Y.shape)\r\n",
                "print(Test_X.shape)\r\n",
                "print(Test_Y.shape)"
            ],
            "outputs": [
                {
                    "output_type": "stream",
                    "name": "stdout",
                    "text": [
                        "(50000, 93)\n",
                        "(50000, 1)\n",
                        "(11878, 93)\n",
                        "(11878, 1)\n"
                    ]
                }
            ],
            "metadata": {}
        },
        {
            "cell_type": "code",
            "execution_count": 44,
            "source": [
                "C_dict = dict()"
            ],
            "outputs": [],
            "metadata": {}
        },
        {
            "cell_type": "code",
            "execution_count": 45,
            "source": [
                "# for C in [10**x for x in range(-4,2)]:\r\n",
                "#     svc = OneVsRestClassifier(LinearSVC(C=C , random_state=0))\r\n",
                "#     svc.fit(Train_X, Train_Y)\r\n",
                "#     C_dict.update({C:svc.score(Train_X, Train_Y)})"
            ],
            "outputs": [],
            "metadata": {}
        },
        {
            "cell_type": "code",
            "execution_count": 46,
            "source": [
                "# print(C_dict)"
            ],
            "outputs": [],
            "metadata": {}
        },
        {
            "cell_type": "code",
            "execution_count": 47,
            "source": [
                "# Best C: 0.1\r\n",
                "# Best Score: 0.75044\r\n",
                "# 0.1: 0.75326\r\n",
                "best_C = 0.1"
            ],
            "outputs": [],
            "metadata": {}
        },
        {
            "cell_type": "code",
            "execution_count": 48,
            "source": [
                "Test_Y_num = list()\r\n",
                "for item in Test_Y:\r\n",
                "    Test_Y_num.append([int(item[-1][-1])-1])\r\n",
                "# print(Train_Y_num)\r\n",
                "Test_Y_num = np.array(Test_Y_num)\r\n",
                "print(Test_Y_num)"
            ],
            "outputs": [
                {
                    "output_type": "stream",
                    "name": "stdout",
                    "text": [
                        "[[1]\n",
                        " [5]\n",
                        " [4]\n",
                        " ...\n",
                        " [4]\n",
                        " [5]\n",
                        " [1]]\n"
                    ]
                }
            ],
            "metadata": {}
        },
        {
            "cell_type": "code",
            "execution_count": 49,
            "source": [
                "svc = SVC(C=2, random_state=0)\r\n",
                "svc.fit(Train_X, Train_Y.ravel())\r\n",
                "svm_pred = svc.predict(Test_X)"
            ],
            "outputs": [],
            "metadata": {}
        },
        {
            "cell_type": "code",
            "execution_count": 50,
            "source": [
                "normal_svm_predict = metrics.classification_report(Test_Y,svm_pred)\r\n",
                "print(normal_svm_predict)"
            ],
            "outputs": [
                {
                    "output_type": "stream",
                    "name": "stdout",
                    "text": [
                        "              precision    recall  f1-score   support\n",
                        "\n",
                        "     Class_1       0.69      0.50      0.58       346\n",
                        "     Class_2       0.67      0.90      0.77      3070\n",
                        "     Class_3       0.59      0.35      0.44      1484\n",
                        "     Class_4       0.80      0.33      0.46       495\n",
                        "     Class_5       0.97      0.96      0.97       586\n",
                        "     Class_6       0.95      0.94      0.94      2730\n",
                        "     Class_7       0.78      0.62      0.69       554\n",
                        "     Class_8       0.89      0.93      0.91      1650\n",
                        "     Class_9       0.86      0.89      0.87       963\n",
                        "\n",
                        "    accuracy                           0.80     11878\n",
                        "   macro avg       0.80      0.71      0.74     11878\n",
                        "weighted avg       0.80      0.80      0.78     11878\n",
                        "\n"
                    ]
                }
            ],
            "metadata": {}
        },
        {
            "cell_type": "code",
            "execution_count": 54,
            "source": [
                "from sklearn.svm import LinearSVC"
            ],
            "outputs": [],
            "metadata": {}
        },
        {
            "cell_type": "code",
            "execution_count": 58,
            "source": [
                "Ada_svc = AdaBoostClassifier(SVC(C=2, random_state=0),n_estimators=100,random_state=0,algorithm='SAMME')\r\n",
                "Ada_svc.fit(Train_X, Train_Y.ravel())\r\n",
                "svm_pred = Ada_svc.predict(Test_X)"
            ],
            "outputs": [],
            "metadata": {}
        },
        {
            "cell_type": "code",
            "execution_count": 59,
            "source": [
                "print(metrics.classification_report(Test_Y,svm_pred))"
            ],
            "outputs": [
                {
                    "output_type": "stream",
                    "name": "stdout",
                    "text": [
                        "              precision    recall  f1-score   support\n",
                        "\n",
                        "     Class_1       0.43      0.43      0.43       346\n",
                        "     Class_2       0.63      0.81      0.71      3070\n",
                        "     Class_3       0.42      0.25      0.31      1484\n",
                        "     Class_4       0.48      0.29      0.36       495\n",
                        "     Class_5       0.89      0.94      0.92       586\n",
                        "     Class_6       0.91      0.90      0.91      2730\n",
                        "     Class_7       0.59      0.54      0.56       554\n",
                        "     Class_8       0.87      0.82      0.85      1650\n",
                        "     Class_9       0.79      0.82      0.80       963\n",
                        "\n",
                        "    accuracy                           0.73     11878\n",
                        "   macro avg       0.67      0.64      0.65     11878\n",
                        "weighted avg       0.71      0.73      0.71     11878\n",
                        "\n"
                    ]
                }
            ],
            "metadata": {}
        },
        {
            "cell_type": "code",
            "execution_count": null,
            "source": [
                "print(Test_X)"
            ],
            "outputs": [
                {
                    "output_type": "stream",
                    "name": "stdout",
                    "text": [
                        "[[0 0 0 ... 0 1 0]\n",
                        " [0 0 0 ... 0 0 0]\n",
                        " [0 0 0 ... 0 1 0]\n",
                        " ...\n",
                        " [0 0 0 ... 1 0 0]\n",
                        " [0 0 0 ... 0 0 0]\n",
                        " [0 0 0 ... 0 0 0]]\n"
                    ]
                }
            ],
            "metadata": {}
        },
        {
            "cell_type": "code",
            "execution_count": null,
            "source": [],
            "outputs": [
                {
                    "output_type": "error",
                    "ename": "AttributeError",
                    "evalue": "predict_proba is not available when  probability=False",
                    "traceback": [
                        "\u001b[1;31m---------------------------------------------------------------------------\u001b[0m",
                        "\u001b[1;31mAttributeError\u001b[0m                            Traceback (most recent call last)",
                        "\u001b[1;32m<ipython-input-35-0678b37712b8>\u001b[0m in \u001b[0;36m<module>\u001b[1;34m\u001b[0m\n\u001b[1;32m----> 1\u001b[1;33m \u001b[0msvm_proba_pred\u001b[0m \u001b[1;33m=\u001b[0m \u001b[0msvc\u001b[0m\u001b[1;33m.\u001b[0m\u001b[0mpredict_proba\u001b[0m\u001b[1;33m(\u001b[0m\u001b[0mTest_X\u001b[0m\u001b[1;33m)\u001b[0m\u001b[1;33m\u001b[0m\u001b[1;33m\u001b[0m\u001b[0m\n\u001b[0m",
                        "\u001b[1;32mE:\\Anaconda\\envs\\tf24\\lib\\site-packages\\sklearn\\svm\\_base.py\u001b[0m in \u001b[0;36mpredict_proba\u001b[1;34m(self)\u001b[0m\n\u001b[0;32m    664\u001b[0m         \u001b[0mdatasets\u001b[0m\u001b[1;33m.\u001b[0m\u001b[1;33m\u001b[0m\u001b[1;33m\u001b[0m\u001b[0m\n\u001b[0;32m    665\u001b[0m         \"\"\"\n\u001b[1;32m--> 666\u001b[1;33m         \u001b[0mself\u001b[0m\u001b[1;33m.\u001b[0m\u001b[0m_check_proba\u001b[0m\u001b[1;33m(\u001b[0m\u001b[1;33m)\u001b[0m\u001b[1;33m\u001b[0m\u001b[1;33m\u001b[0m\u001b[0m\n\u001b[0m\u001b[0;32m    667\u001b[0m         \u001b[1;32mreturn\u001b[0m \u001b[0mself\u001b[0m\u001b[1;33m.\u001b[0m\u001b[0m_predict_proba\u001b[0m\u001b[1;33m\u001b[0m\u001b[1;33m\u001b[0m\u001b[0m\n\u001b[0;32m    668\u001b[0m \u001b[1;33m\u001b[0m\u001b[0m\n",
                        "\u001b[1;32mE:\\Anaconda\\envs\\tf24\\lib\\site-packages\\sklearn\\svm\\_base.py\u001b[0m in \u001b[0;36m_check_proba\u001b[1;34m(self)\u001b[0m\n\u001b[0;32m    631\u001b[0m     \u001b[1;32mdef\u001b[0m \u001b[0m_check_proba\u001b[0m\u001b[1;33m(\u001b[0m\u001b[0mself\u001b[0m\u001b[1;33m)\u001b[0m\u001b[1;33m:\u001b[0m\u001b[1;33m\u001b[0m\u001b[1;33m\u001b[0m\u001b[0m\n\u001b[0;32m    632\u001b[0m         \u001b[1;32mif\u001b[0m \u001b[1;32mnot\u001b[0m \u001b[0mself\u001b[0m\u001b[1;33m.\u001b[0m\u001b[0mprobability\u001b[0m\u001b[1;33m:\u001b[0m\u001b[1;33m\u001b[0m\u001b[1;33m\u001b[0m\u001b[0m\n\u001b[1;32m--> 633\u001b[1;33m             raise AttributeError(\"predict_proba is not available when \"\n\u001b[0m\u001b[0;32m    634\u001b[0m                                  \" probability=False\")\n\u001b[0;32m    635\u001b[0m         \u001b[1;32mif\u001b[0m \u001b[0mself\u001b[0m\u001b[1;33m.\u001b[0m\u001b[0m_impl\u001b[0m \u001b[1;32mnot\u001b[0m \u001b[1;32min\u001b[0m \u001b[1;33m(\u001b[0m\u001b[1;34m'c_svc'\u001b[0m\u001b[1;33m,\u001b[0m \u001b[1;34m'nu_svc'\u001b[0m\u001b[1;33m)\u001b[0m\u001b[1;33m:\u001b[0m\u001b[1;33m\u001b[0m\u001b[1;33m\u001b[0m\u001b[0m\n",
                        "\u001b[1;31mAttributeError\u001b[0m: predict_proba is not available when  probability=False"
                    ]
                }
            ],
            "metadata": {}
        }
    ],
    "metadata": {
        "orig_nbformat": 4,
        "language_info": {
            "name": "python",
            "version": "3.8.8",
            "mimetype": "text/x-python",
            "codemirror_mode": {
                "name": "ipython",
                "version": 3
            },
            "pygments_lexer": "ipython3",
            "nbconvert_exporter": "python",
            "file_extension": ".py"
        },
        "kernelspec": {
            "name": "python3",
            "display_name": "Python 3.8.8 64-bit ('tf24': conda)"
        },
        "interpreter": {
            "hash": "fc41597814ff85e0caced484d48bad3e0926c3d440aa194648a264b83f287c05"
        }
    },
    "nbformat": 4,
    "nbformat_minor": 2
}