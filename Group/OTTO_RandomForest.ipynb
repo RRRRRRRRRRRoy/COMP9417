{
    "cells": [
        {
            "cell_type": "code",
            "execution_count": 17,
            "source": [
                "import numpy as np\r\n",
                "import pandas as pd\r\n",
                "from sklearn.utils import shuffle\r\n",
                "from sklearn import metrics\r\n",
                "from sklearn.metrics import log_loss\r\n",
                "from sklearn.ensemble import RandomForestClassifier as RFC\r\n",
                "from sklearn.metrics import classification_report"
            ],
            "outputs": [],
            "metadata": {}
        },
        {
            "cell_type": "code",
            "execution_count": 18,
            "source": [
                "raw_train_data = pd.read_csv(\"D:\\\\train.csv\")\r\n",
                "raw_test_data = pd.read_csv(\"D:\\\\test.csv\")"
            ],
            "outputs": [],
            "metadata": {}
        },
        {
            "cell_type": "code",
            "execution_count": 19,
            "source": [
                "print(raw_train_data.shape)\r\n",
                "print(raw_test_data.shape)"
            ],
            "outputs": [
                {
                    "output_type": "stream",
                    "name": "stdout",
                    "text": [
                        "(61878, 95)\n",
                        "(144368, 94)\n"
                    ]
                }
            ],
            "metadata": {}
        },
        {
            "cell_type": "code",
            "execution_count": 20,
            "source": [
                "Train_data = raw_train_data.iloc[:, 1:95]\r\n",
                "labels = set(Train_data.iloc[:,93:94].target)\r\n",
                "Valid_x = np.array(raw_test_data.iloc[:, 1:94])\r\n",
                "Total_x = np.array(Train_data.iloc[:,0:93])\r\n",
                "Total_y = np.array(Train_data.iloc[:,93:94])"
            ],
            "outputs": [],
            "metadata": {}
        },
        {
            "cell_type": "code",
            "execution_count": 21,
            "source": [
                "print(f\"The current has the following label {labels}\")\r\n",
                "print(f\"The shape the Total_X {Total_x.shape}\")\r\n",
                "print(f\"The shape the Total_Y {Total_y.shape}\")\r\n",
                "print(f\"The shape the Valid_X {Valid_x.shape}\")\r\n",
                "print(f\"Check Nan in Total_X {set(np.isnan(Total_x).any(axis=1))}\")\r\n",
                "# print(f\"Check Nan in Train_Y {np.isnan(Train_Y).any(axis=1)}\")\r\n",
                "print(f\"Check Nan in Valid_X {set(np.isnan(Valid_x).any(axis=1))}\")"
            ],
            "outputs": [
                {
                    "output_type": "stream",
                    "name": "stdout",
                    "text": [
                        "The current has the following label {'Class_8', 'Class_5', 'Class_1', 'Class_9', 'Class_7', 'Class_6', 'Class_4', 'Class_3', 'Class_2'}\n",
                        "The shape the Total_X (61878, 93)\n",
                        "The shape the Total_Y (61878, 1)\n",
                        "The shape the Valid_X (144368, 93)\n",
                        "Check Nan in Total_X {False}\n",
                        "Check Nan in Valid_X {False}\n"
                    ]
                }
            ],
            "metadata": {}
        },
        {
            "cell_type": "code",
            "execution_count": 22,
            "source": [
                "np.random.seed(10)\r\n",
                "Total_X,Total_Y = shuffle(Total_x,Total_y)"
            ],
            "outputs": [],
            "metadata": {}
        },
        {
            "cell_type": "code",
            "execution_count": 23,
            "source": [
                "# In this part using the previous 50000 to do the training and the last data to do the test check the score\r\n",
                "Train_X = Total_X[:50000]\r\n",
                "Train_Y = Total_Y[:50000]\r\n",
                "Test_X = Total_X[50000:]\r\n",
                "Test_Y = Total_Y[50000:]\r\n",
                "print(Train_X.shape)\r\n",
                "print(Train_Y.shape)\r\n",
                "print(Test_X.shape)\r\n",
                "print(Test_Y.shape)"
            ],
            "outputs": [
                {
                    "output_type": "stream",
                    "name": "stdout",
                    "text": [
                        "(50000, 93)\n",
                        "(50000, 1)\n",
                        "(11878, 93)\n",
                        "(11878, 1)\n"
                    ]
                }
            ],
            "metadata": {}
        },
        {
            "cell_type": "code",
            "execution_count": 24,
            "source": [
                "clf = RFC(n_estimators=400)\r\n",
                "clf.fit(Train_X, Train_Y.ravel())"
            ],
            "outputs": [
                {
                    "output_type": "execute_result",
                    "data": {
                        "text/plain": [
                            "RandomForestClassifier(n_estimators=400)"
                        ]
                    },
                    "metadata": {},
                    "execution_count": 24
                }
            ],
            "metadata": {}
        },
        {
            "cell_type": "code",
            "execution_count": 25,
            "source": [
                "RFC_pred = clf.predict(Test_X)\r\n",
                "RFC_pred_proba = clf.predict_proba(Test_X)"
            ],
            "outputs": [],
            "metadata": {}
        },
        {
            "cell_type": "code",
            "execution_count": 26,
            "source": [
                "normal_rfc_predict = metrics.classification_report(Test_Y,RFC_pred)\r\n",
                "print(normal_rfc_predict)"
            ],
            "outputs": [
                {
                    "output_type": "stream",
                    "name": "stdout",
                    "text": [
                        "              precision    recall  f1-score   support\n",
                        "\n",
                        "     Class_1       0.79      0.42      0.55       346\n",
                        "     Class_2       0.71      0.89      0.79      3070\n",
                        "     Class_3       0.63      0.49      0.55      1484\n",
                        "     Class_4       0.81      0.42      0.56       495\n",
                        "     Class_5       0.97      0.97      0.97       586\n",
                        "     Class_6       0.93      0.95      0.94      2730\n",
                        "     Class_7       0.81      0.54      0.64       554\n",
                        "     Class_8       0.88      0.94      0.91      1650\n",
                        "     Class_9       0.87      0.89      0.88       963\n",
                        "\n",
                        "    accuracy                           0.81     11878\n",
                        "   macro avg       0.82      0.72      0.75     11878\n",
                        "weighted avg       0.81      0.81      0.80     11878\n",
                        "\n"
                    ]
                }
            ],
            "metadata": {}
        },
        {
            "cell_type": "code",
            "execution_count": null,
            "source": [
                "log_loss_result = log_loss(Test_Y, RFC_pred_proba)\r\n",
                "print(log_loss_result)"
            ],
            "outputs": [],
            "metadata": {}
        }
    ],
    "metadata": {
        "orig_nbformat": 4,
        "language_info": {
            "name": "python",
            "version": "3.8.8",
            "mimetype": "text/x-python",
            "codemirror_mode": {
                "name": "ipython",
                "version": 3
            },
            "pygments_lexer": "ipython3",
            "nbconvert_exporter": "python",
            "file_extension": ".py"
        },
        "kernelspec": {
            "name": "python3",
            "display_name": "Python 3.8.8 64-bit ('tf24': conda)"
        },
        "interpreter": {
            "hash": "fc41597814ff85e0caced484d48bad3e0926c3d440aa194648a264b83f287c05"
        }
    },
    "nbformat": 4,
    "nbformat_minor": 2
}