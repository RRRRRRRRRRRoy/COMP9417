{
 "cells": [
  {
   "cell_type": "markdown",
   "source": [
    "xgboost\n"
   ],
   "metadata": {}
  },
  {
   "cell_type": "code",
   "execution_count": 12,
   "source": [
    "\r\n",
    "import numpy as np \r\n",
    "import pandas as pd \r\n",
    "import seaborn as sb\r\n",
    "import xgboost as xgb\r\n",
    "\r\n",
    "from sklearn import metrics\r\n",
    "from sklearn.utils import shuffle"
   ],
   "outputs": [],
   "metadata": {
    "collapsed": false
   }
  },
  {
   "cell_type": "code",
   "execution_count": 13,
   "source": [
    "raw_train_data = pd.read_csv(\"D:\\\\train.csv\")\r\n",
    "raw_test_data = pd.read_csv(\"D:\\\\test.csv\")"
   ],
   "outputs": [],
   "metadata": {
    "collapsed": false
   }
  },
  {
   "cell_type": "code",
   "execution_count": 14,
   "source": [
    "print(raw_train_data.shape)\r\n",
    "print(raw_test_data.shape)"
   ],
   "outputs": [
    {
     "output_type": "stream",
     "name": "stdout",
     "text": [
      "(61878, 95)\n",
      "(144368, 94)\n"
     ]
    }
   ],
   "metadata": {}
  },
  {
   "cell_type": "code",
   "execution_count": 15,
   "source": [
    "Train_data = raw_train_data.iloc[:, 1:95]\r\n",
    "labels = set(Train_data.iloc[:,93:94].target)\r\n",
    "Valid_x = np.array(raw_test_data.iloc[:, 1:94])\r\n",
    "Total_x = np.array(Train_data.iloc[:,0:93])\r\n",
    "Total_y = np.array(Train_data.iloc[:,93:94])"
   ],
   "outputs": [],
   "metadata": {}
  },
  {
   "cell_type": "code",
   "execution_count": 16,
   "source": [
    "print(f\"The current has the following label {labels}\")\r\n",
    "print(f\"The shape the Total_X {Total_x.shape}\")\r\n",
    "print(f\"The shape the Total_Y {Total_y.shape}\")\r\n",
    "print(f\"The shape the Valid_X {Valid_x.shape}\")\r\n",
    "print(f\"Check Nan in Total_X {set(np.isnan(Total_x).any(axis=1))}\")\r\n",
    "# print(f\"Check Nan in Train_Y {np.isnan(Train_Y).any(axis=1)}\")\r\n",
    "print(f\"Check Nan in Valid_X {set(np.isnan(Valid_x).any(axis=1))}\")"
   ],
   "outputs": [
    {
     "output_type": "stream",
     "name": "stdout",
     "text": [
      "The current has the following label {'Class_1', 'Class_4', 'Class_2', 'Class_8', 'Class_6', 'Class_9', 'Class_3', 'Class_7', 'Class_5'}\n",
      "The shape the Total_X (61878, 93)\n",
      "The shape the Total_Y (61878, 1)\n",
      "The shape the Valid_X (144368, 93)\n",
      "Check Nan in Total_X {False}\n",
      "Check Nan in Valid_X {False}\n"
     ]
    }
   ],
   "metadata": {}
  },
  {
   "cell_type": "code",
   "execution_count": 17,
   "source": [
    "Total_X,Total_Y = shuffle(Total_x,Total_y)"
   ],
   "outputs": [],
   "metadata": {}
  },
  {
   "cell_type": "code",
   "execution_count": 18,
   "source": [
    "# In this part using the previous 50000 to do the training and the last data to do the test check the score\r\n",
    "Train_X = Total_X[:50000]\r\n",
    "Train_Y = Total_Y[:50000]\r\n",
    "Test_X = Total_X[50000:]\r\n",
    "Test_Y = Total_Y[50000:]\r\n",
    "print(Train_X.shape)\r\n",
    "print(Train_Y.shape)\r\n",
    "print(Test_X.shape)\r\n",
    "print(Test_Y.shape)"
   ],
   "outputs": [
    {
     "output_type": "stream",
     "name": "stdout",
     "text": [
      "(50000, 93)\n",
      "(50000, 1)\n",
      "(11878, 93)\n",
      "(11878, 1)\n"
     ]
    }
   ],
   "metadata": {}
  },
  {
   "cell_type": "code",
   "execution_count": 34,
   "source": [
    "Train_Y_num = list()\r\n",
    "for item in Train_Y:\r\n",
    "    Train_Y_num.append(int(item[-1][-1])-1)\r\n",
    "# print(Train_Y_num)"
   ],
   "outputs": [],
   "metadata": {}
  },
  {
   "cell_type": "code",
   "execution_count": 35,
   "source": [
    "Training_data_xgb = xgb.DMatrix(Train_X,Train_Y_num)\r\n",
    "Testing_data_xgb = xgb.DMatrix(Test_X)"
   ],
   "outputs": [],
   "metadata": {}
  },
  {
   "cell_type": "code",
   "execution_count": 36,
   "source": [
    "params = {\"objective\": \"multi:softprob\", \"eval_metric\":\"mlogloss\", \"num_class\": 9}"
   ],
   "outputs": [],
   "metadata": {}
  },
  {
   "cell_type": "code",
   "execution_count": 37,
   "source": [
    "#number of iterations - initial 20, \r\n",
    "gbm = xgb.train(params, Training_data_xgb, 180)\r\n",
    "# predict_Y_xgb = gbm.predict(Testing_data_xgb)"
   ],
   "outputs": [],
   "metadata": {}
  },
  {
   "cell_type": "code",
   "execution_count": 38,
   "source": [
    "predict_Y_xgb = gbm.predict(Testing_data_xgb)"
   ],
   "outputs": [],
   "metadata": {}
  },
  {
   "cell_type": "code",
   "execution_count": 56,
   "source": [
    "print(predict_Y_xgb)"
   ],
   "outputs": [
    {
     "output_type": "stream",
     "name": "stdout",
     "text": [
      "[[1.0659158e-03 7.9918426e-01 1.7152654e-01 ... 4.9858661e-03\n",
      "  1.2911009e-02 6.0700788e-03]\n",
      " [4.3151355e-03 1.2497307e-05 2.4305460e-05 ... 8.7789027e-04\n",
      "  7.0006069e-04 2.0085921e-04]\n",
      " [1.6144068e-03 3.8237486e-04 1.8052303e-03 ... 7.1261108e-01\n",
      "  3.7561811e-03 4.2994102e-04]\n",
      " ...\n",
      " [1.1210376e-02 3.5634160e-04 9.0564962e-04 ... 1.4968207e-03\n",
      "  7.1794111e-01 2.0267349e-01]\n",
      " [7.6303883e-03 8.3482351e-05 8.8830064e-05 ... 2.1254100e-06\n",
      "  5.6644556e-05 9.8909783e-01]\n",
      " [2.2344955e-06 1.8657406e-03 2.8593387e-05 ... 2.9814576e-06\n",
      "  5.8801816e-06 1.2215107e-05]]\n"
     ]
    }
   ],
   "metadata": {}
  },
  {
   "cell_type": "code",
   "execution_count": 75,
   "source": [
    "result_list = list()\r\n",
    "for item in predict_Y_xgb:\r\n",
    "    result_list.append(np.where(item==max(item))[0].tolist()[0]+1)\r\n",
    "# print(result_list)\r\n"
   ],
   "outputs": [],
   "metadata": {}
  },
  {
   "cell_type": "code",
   "execution_count": 76,
   "source": [
    "ground_true_label_Y = [int(item[-1][-1]) for item in Test_Y]\r\n",
    "# print(ground_true_label_Y)"
   ],
   "outputs": [],
   "metadata": {}
  },
  {
   "cell_type": "code",
   "execution_count": null,
   "source": [
    "normal_svm_predict = metrics.classification_report(ground_true_label_Y,result_list)\r\n",
    "print(normal_svm_predict)"
   ],
   "outputs": [],
   "metadata": {}
  }
 ],
 "metadata": {
  "kernelspec": {
   "name": "python3",
   "display_name": "Python 3.8.8 64-bit ('tf24': conda)"
  },
  "language_info": {
   "name": "python",
   "version": "3.8.8",
   "mimetype": "text/x-python",
   "codemirror_mode": {
    "name": "ipython",
    "version": 3
   },
   "pygments_lexer": "ipython3",
   "nbconvert_exporter": "python",
   "file_extension": ".py"
  },
  "interpreter": {
   "hash": "fc41597814ff85e0caced484d48bad3e0926c3d440aa194648a264b83f287c05"
  }
 },
 "nbformat": 4,
 "nbformat_minor": 2
}