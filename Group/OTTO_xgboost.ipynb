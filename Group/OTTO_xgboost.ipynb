{
 "cells": [
  {
   "cell_type": "markdown",
   "source": [
    "xgboost\n"
   ],
   "metadata": {}
  },
  {
   "cell_type": "code",
   "execution_count": 9,
   "source": [
    "\r\n",
    "import numpy as np \r\n",
    "import pandas as pd \r\n",
    "import seaborn as sb\r\n",
    "import xgboost as xgb\r\n",
    "\r\n",
    "from sklearn import metrics"
   ],
   "outputs": [],
   "metadata": {
    "collapsed": false
   }
  },
  {
   "cell_type": "code",
   "execution_count": 10,
   "source": [
    "raw_train_data = pd.read_csv(\"D:\\\\train.csv\")\r\n",
    "raw_test_data = pd.read_csv(\"D:\\\\test.csv\")"
   ],
   "outputs": [],
   "metadata": {
    "collapsed": false
   }
  },
  {
   "cell_type": "code",
   "execution_count": null,
   "source": [
    "print(raw_train_data.shape)\r\n",
    "print(raw_test_data.shape)"
   ],
   "outputs": [],
   "metadata": {}
  },
  {
   "cell_type": "code",
   "execution_count": null,
   "source": [
    "Train_data = raw_train_data.iloc[:, 1:95]\r\n",
    "labels = set(Train_data.iloc[:,93:94].target)\r\n",
    "Valid_x = np.array(raw_test_data.iloc[:, 1:94])\r\n",
    "Total_x = np.array(Train_data.iloc[:,0:93])\r\n",
    "Total_y = np.array(Train_data.iloc[:,93:94])"
   ],
   "outputs": [],
   "metadata": {}
  }
 ],
 "metadata": {
  "kernelspec": {
   "name": "python3",
   "display_name": "Python 3.8.8 64-bit ('tf24': conda)"
  },
  "language_info": {
   "name": "python",
   "version": "3.8.8",
   "mimetype": "text/x-python",
   "codemirror_mode": {
    "name": "ipython",
    "version": 3
   },
   "pygments_lexer": "ipython3",
   "nbconvert_exporter": "python",
   "file_extension": ".py"
  },
  "interpreter": {
   "hash": "fc41597814ff85e0caced484d48bad3e0926c3d440aa194648a264b83f287c05"
  }
 },
 "nbformat": 4,
 "nbformat_minor": 2
}