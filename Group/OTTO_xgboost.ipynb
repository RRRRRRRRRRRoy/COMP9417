{
 "cells": [
  {
   "cell_type": "markdown",
   "source": [
    "# xgboost\r\n"
   ],
   "metadata": {}
  },
  {
   "cell_type": "code",
   "execution_count": 18,
   "source": [
    "import numpy as np \r\n",
    "import pandas as pd \r\n",
    "import seaborn as sb\r\n",
    "import xgboost as xgb\r\n",
    "from sklearn import metrics\r\n",
    "from sklearn.utils import shuffle\r\n",
    "from sklearn.metrics import log_loss"
   ],
   "outputs": [],
   "metadata": {
    "collapsed": false
   }
  },
  {
   "cell_type": "code",
   "execution_count": 19,
   "source": [
    "raw_train_data = pd.read_csv(\"D:\\\\train.csv\")\r\n",
    "raw_test_data = pd.read_csv(\"D:\\\\test.csv\")"
   ],
   "outputs": [],
   "metadata": {
    "collapsed": false
   }
  },
  {
   "cell_type": "code",
   "execution_count": 20,
   "source": [
    "print(raw_train_data.shape)\r\n",
    "print(raw_test_data.shape)"
   ],
   "outputs": [
    {
     "output_type": "stream",
     "name": "stdout",
     "text": [
      "(61878, 95)\n",
      "(144368, 94)\n"
     ]
    }
   ],
   "metadata": {}
  },
  {
   "cell_type": "code",
   "execution_count": 21,
   "source": [
    "Train_data = raw_train_data.iloc[:, 1:95]\r\n",
    "labels = set(Train_data.iloc[:,93:94].target)\r\n",
    "Valid_x = np.array(raw_test_data.iloc[:, 1:94])\r\n",
    "Total_x = np.array(Train_data.iloc[:,0:93])\r\n",
    "Total_y = np.array(Train_data.iloc[:,93:94])"
   ],
   "outputs": [],
   "metadata": {}
  },
  {
   "cell_type": "code",
   "execution_count": 22,
   "source": [
    "print(f\"The current has the following label {labels}\")\r\n",
    "print(f\"The shape the Total_X {Total_x.shape}\")\r\n",
    "print(f\"The shape the Total_Y {Total_y.shape}\")\r\n",
    "print(f\"The shape the Valid_X {Valid_x.shape}\")\r\n",
    "print(f\"Check Nan in Total_X {set(np.isnan(Total_x).any(axis=1))}\")\r\n",
    "# print(f\"Check Nan in Train_Y {np.isnan(Train_Y).any(axis=1)}\")\r\n",
    "print(f\"Check Nan in Valid_X {set(np.isnan(Valid_x).any(axis=1))}\")"
   ],
   "outputs": [
    {
     "output_type": "stream",
     "name": "stdout",
     "text": [
      "The current has the following label {'Class_4', 'Class_6', 'Class_8', 'Class_3', 'Class_1', 'Class_7', 'Class_5', 'Class_9', 'Class_2'}\n",
      "The shape the Total_X (61878, 93)\n",
      "The shape the Total_Y (61878, 1)\n",
      "The shape the Valid_X (144368, 93)\n",
      "Check Nan in Total_X {False}\n",
      "Check Nan in Valid_X {False}\n"
     ]
    }
   ],
   "metadata": {}
  },
  {
   "cell_type": "code",
   "execution_count": 23,
   "source": [
    "np.random.seed(10)\r\n",
    "Total_X,Total_Y = shuffle(Total_x,Total_y)"
   ],
   "outputs": [],
   "metadata": {}
  },
  {
   "cell_type": "code",
   "execution_count": 24,
   "source": [
    "# In this part using the previous 50000 to do the training and the last data to do the test check the score\r\n",
    "Train_X = Total_X[:50000]\r\n",
    "Train_Y = Total_Y[:50000]\r\n",
    "Test_X = Total_X[50000:]\r\n",
    "Test_Y = Total_Y[50000:]\r\n",
    "print(Train_X.shape)\r\n",
    "print(Train_Y.shape)\r\n",
    "print(Test_X.shape)\r\n",
    "print(Test_Y.shape)"
   ],
   "outputs": [
    {
     "output_type": "stream",
     "name": "stdout",
     "text": [
      "(50000, 93)\n",
      "(50000, 1)\n",
      "(11878, 93)\n",
      "(11878, 1)\n"
     ]
    }
   ],
   "metadata": {}
  },
  {
   "cell_type": "code",
   "execution_count": 25,
   "source": [
    "Train_Y_num = list()\r\n",
    "for item in Train_Y:\r\n",
    "    Train_Y_num.append(int(item[-1][-1])-1)\r\n",
    "# print(Train_Y_num)"
   ],
   "outputs": [],
   "metadata": {}
  },
  {
   "cell_type": "code",
   "execution_count": 26,
   "source": [
    "Training_data_xgb = xgb.DMatrix(Train_X,Train_Y_num)\r\n",
    "Testing_data_xgb = xgb.DMatrix(Test_X)"
   ],
   "outputs": [],
   "metadata": {}
  },
  {
   "cell_type": "code",
   "execution_count": 27,
   "source": [
    "params = {\"objective\": \"multi:softprob\", \"eval_metric\":\"mlogloss\", \"num_class\": 9}"
   ],
   "outputs": [],
   "metadata": {}
  },
  {
   "cell_type": "code",
   "execution_count": 28,
   "source": [
    "#number of iterations - initial 20, \r\n",
    "gbm = xgb.train(params, Training_data_xgb, 200)\r\n",
    "# predict_Y_xgb = gbm.predict(Testing_data_xgb)\r\n",
    "# 10   acc: 0.77\r\n",
    "# 50   acc: 0.80\r\n",
    "# 100   acc: 0.81\r\n",
    "# 120   acc: 0.81\r\n",
    "# 130   acc: 0.82\r\n",
    "# 180   acc: 0.82\r\n",
    "# 300   acc: 0.82\r\n",
    "# 1000   acc: 0.82"
   ],
   "outputs": [],
   "metadata": {}
  },
  {
   "cell_type": "code",
   "execution_count": 29,
   "source": [
    "predict_Y_xgb = gbm.predict(Testing_data_xgb)"
   ],
   "outputs": [],
   "metadata": {}
  },
  {
   "cell_type": "code",
   "execution_count": 30,
   "source": [
    "print(predict_Y_xgb)"
   ],
   "outputs": [
    {
     "output_type": "stream",
     "name": "stdout",
     "text": [
      "[[4.7290634e-04 9.0998012e-01 5.8952454e-02 ... 8.9137023e-04\n",
      "  9.1283611e-05 6.5749497e-05]\n",
      " [4.1591779e-06 1.3025296e-05 4.7621497e-06 ... 2.2818611e-05\n",
      "  6.3180203e-05 1.0312075e-05]\n",
      " [3.3377859e-07 3.5194153e-05 9.9295175e-07 ... 4.6567749e-07\n",
      "  1.5351237e-06 9.5585904e-07]\n",
      " ...\n",
      " [2.9206492e-05 9.4681345e-06 1.9150623e-06 ... 3.0162169e-06\n",
      "  3.8451467e-06 8.4500944e-06]\n",
      " [1.1137722e-02 3.1286850e-06 2.1926508e-05 ... 2.5693560e-04\n",
      "  2.2075700e-03 2.1232420e-03]\n",
      " [9.4026982e-06 9.0647691e-01 8.6618550e-02 ... 6.1061444e-05\n",
      "  6.9830792e-05 2.5089566e-06]]\n"
     ]
    }
   ],
   "metadata": {}
  },
  {
   "cell_type": "code",
   "execution_count": 31,
   "source": [
    "result_list = list()\r\n",
    "for item in predict_Y_xgb:\r\n",
    "    result_list.append(np.where(item==max(item))[0].tolist()[0]+1)\r\n",
    "# print(result_list)\r\n"
   ],
   "outputs": [],
   "metadata": {}
  },
  {
   "cell_type": "code",
   "execution_count": 32,
   "source": [
    "ground_true_label_Y = [int(item[-1][-1]) for item in Test_Y]\r\n",
    "# print(ground_true_label_Y)"
   ],
   "outputs": [],
   "metadata": {}
  },
  {
   "cell_type": "code",
   "execution_count": 33,
   "source": [
    "log_loss_result = log_loss(Test_Y, predict_Y_xgb)\r\n",
    "print(log_loss_result)\r\n",
    "# 130 0.4691932772102278\r\n",
    "# 180 0.46355069379757285\r\n",
    "# 200 0.46340078275644003"
   ],
   "outputs": [
    {
     "output_type": "stream",
     "name": "stdout",
     "text": [
      "0.46340078275644003\n"
     ]
    }
   ],
   "metadata": {}
  },
  {
   "cell_type": "code",
   "execution_count": 34,
   "source": [
    "normal_svm_predict = metrics.classification_report(ground_true_label_Y,result_list)\r\n",
    "print(normal_svm_predict)"
   ],
   "outputs": [
    {
     "output_type": "stream",
     "name": "stdout",
     "text": [
      "              precision    recall  f1-score   support\n",
      "\n",
      "           1       0.73      0.58      0.64       346\n",
      "           2       0.75      0.84      0.79      3070\n",
      "           3       0.61      0.54      0.58      1484\n",
      "           4       0.74      0.52      0.61       495\n",
      "           5       0.98      0.98      0.98       586\n",
      "           6       0.95      0.95      0.95      2730\n",
      "           7       0.77      0.67      0.72       554\n",
      "           8       0.90      0.93      0.92      1650\n",
      "           9       0.88      0.88      0.88       963\n",
      "\n",
      "    accuracy                           0.82     11878\n",
      "   macro avg       0.81      0.77      0.78     11878\n",
      "weighted avg       0.82      0.82      0.82     11878\n",
      "\n"
     ]
    }
   ],
   "metadata": {}
  }
 ],
 "metadata": {
  "kernelspec": {
   "name": "python3",
   "display_name": "Python 3.8.8 64-bit ('tf24': conda)"
  },
  "language_info": {
   "name": "python",
   "version": "3.8.8",
   "mimetype": "text/x-python",
   "codemirror_mode": {
    "name": "ipython",
    "version": 3
   },
   "pygments_lexer": "ipython3",
   "nbconvert_exporter": "python",
   "file_extension": ".py"
  },
  "interpreter": {
   "hash": "fc41597814ff85e0caced484d48bad3e0926c3d440aa194648a264b83f287c05"
  }
 },
 "nbformat": 4,
 "nbformat_minor": 2
}